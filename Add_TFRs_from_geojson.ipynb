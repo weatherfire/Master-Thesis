{
 "cells": [
  {
   "cell_type": "markdown",
   "metadata": {},
   "source": [
    "#### A script to be run in ArcGIS Pro to import TFRs via JSON To Features"
   ]
  },
  {
   "cell_type": "markdown",
   "metadata": {},
   "source": [
    "List with FIR location indicators is set up.\n",
    "Possible values in this research: ZAB ZDV ZFW (ZHU, ZKC turn out having no fire TFRs) ZLA ZLC ZMP ZOA ZSE"
   ]
  },
  {
   "cell_type": "code",
   "execution_count": 2,
   "metadata": {},
   "outputs": [],
   "source": [
    "list = [\"ZAB\", \"ZDV\", \"ZFW\", \"ZLA\", \"ZLC\", \"ZMP\", \"ZOA\", \"ZSE\"]"
   ]
  },
  {
   "cell_type": "markdown",
   "metadata": {},
   "source": [
    "With a function, parameters are set and JSON To Features is called to add a TFR. jsonPath and gdbPath need to become adjusted to reproduce."
   ]
  },
  {
   "cell_type": "code",
   "execution_count": 3,
   "metadata": {},
   "outputs": [],
   "source": [
    "def add_TFRs(indicator):\n",
    "    jsonPath = r\"D:\\UNIGIS\\MASTER\\Scripts\\\\\"\n",
    "    gdbPath = r\"C:\\Users\\someNAME\\Documents\\ArcGIS\\Projects\\somePROJECT\\someGDB.gdb\\\\\"\n",
    "   \n",
    "    jsonFile = jsonPath + indicator + \"_fire_TFRs.geojson\"\n",
    "    featureClass = gdbPath + indicator + \"_TFRs\"\n",
    "    \n",
    "    arcpy.JSONToFeatures_conversion(jsonFile, featureClass)\n",
    "\n"
   ]
  },
  {
   "cell_type": "markdown",
   "metadata": {},
   "source": [
    "With a loop the function to add TFRs is called"
   ]
  },
  {
   "cell_type": "code",
   "execution_count": 5,
   "metadata": {},
   "outputs": [],
   "source": [
    "#loop to iterate through list\n",
    "for i in range(0, len(list)):\n",
    "    add_TFRs(list[i])"
   ]
  }
 ],
 "metadata": {
  "kernelspec": {
   "display_name": "Python 3 (ipykernel)",
   "language": "python",
   "name": "python3"
  },
  "language_info": {
   "codemirror_mode": {
    "name": "ipython",
    "version": 3
   },
   "file_extension": ".py",
   "mimetype": "text/x-python",
   "name": "python",
   "nbconvert_exporter": "python",
   "pygments_lexer": "ipython3",
   "version": "3.10.4"
  }
 },
 "nbformat": 4,
 "nbformat_minor": 2
}
