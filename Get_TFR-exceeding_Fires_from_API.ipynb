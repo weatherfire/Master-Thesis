{
 "cells": [
  {
   "cell_type": "markdown",
   "id": "6d47fb7d",
   "metadata": {},
   "source": [
    "# A script to get current fires per TFR from Ororatech API\n",
    "and to find exceeding ones"
   ]
  },
  {
   "cell_type": "code",
   "execution_count": 1,
   "id": "357a1b9f",
   "metadata": {},
   "outputs": [],
   "source": [
    "import requests\n",
    "import json\n",
    "import geopandas as gpd\n",
    "import pandas as pd\n",
    "import sys"
   ]
  },
  {
   "cell_type": "markdown",
   "id": "aab33763",
   "metadata": {},
   "source": [
    "## Get the current fires"
   ]
  },
  {
   "cell_type": "code",
   "execution_count": 2,
   "id": "df1315e1",
   "metadata": {},
   "outputs": [],
   "source": [
    "#provide credentials for API access, obtain from Ororatech and insert here \n",
    "APIkey = 'someSuperLongApiKey'"
   ]
  },
  {
   "cell_type": "markdown",
   "id": "88689fe8",
   "metadata": {},
   "source": [
    "#### A single hotspot is only contained in the API response, if its center is within the bounding coordinates. So it is no clean solution to search for fires using TFR bounding boxes. Instead, buffered fire clusters and TFR polygons need to get joined first. Then, the boundary box of the fire cluster can be used to spatially limit the area, where a time based search for hotspots being active within TFR runtime can be performed to detect runaway fires.\n",
    "As it turned out that ARTCCs issue TFRs beyond their FIR´s boundary, the entire fire cluster dataset has to be joined each time and will be read therefor. "
   ]
  },
  {
   "cell_type": "code",
   "execution_count": 3,
   "id": "b4463285",
   "metadata": {},
   "outputs": [],
   "source": [
    "##specify file location and name\n",
    "#3 letter location indicator, reused within all created files\n",
    "#possible values: ZAB ZDV ZFW ZLA ZLC ZMP ZOA ZSE; not ZKC and ZHU having no wildfire TFRs\n",
    "tfr =r\"ZDV\"\n",
    "#paths and filenames\n",
    "fire_path = r\"D:\\UNIGIS\\MASTER\\DownloadedData\\WFS\\\\\"\n",
    "tfr_path = r\"D:\\UNIGIS\\MASTER\\Scripts\\\\\"\n",
    "out_path = r\"D:\\UNIGIS\\MASTER\\Scripts\\Exceeding\\\\\"\n",
    "\n",
    "fire_file = \"wfs-area-export_FIRs_Boundary_08-102021_con_pt5.geojson\"\n",
    "tfr_file = tfr + r\"_fire_TFRs.geojson\"\n",
    "\n",
    "#read geojson files\n",
    "gdf_fires = gpd.read_file(fire_path + fire_file)\n",
    "gdf_tfrs = gpd.read_file(tfr_path + tfr_file)\n",
    "\n",
    "#size to buffer fires in m; 1609.344 m = 1 SM, 4828.032 m = 3 SM\n",
    "buf_size = 4828.032\n",
    "\n",
    "#output concatenates from these strings as well. Buffer size must be a string for that as well\n",
    "str_buf_size = str(int(buf_size/1609.344))\n",
    "\n",
    "#output filename (if any):\n",
    "outfile = out_path+tfr+'_'+str_buf_size+'SM_runaway_fires.geojson'\n",
    "\n",
    "#logfile filename (to append some row/feature counts)\n",
    "logfilename = out_path+'Fires_from_API_log.txt'"
   ]
  },
  {
   "cell_type": "markdown",
   "id": "93dd7059",
   "metadata": {},
   "source": [
    "Number of evaluated TFRs per FIR, ZDV: 28"
   ]
  },
  {
   "cell_type": "code",
   "execution_count": 4,
   "id": "27f4d10a",
   "metadata": {},
   "outputs": [
    {
     "name": "stdout",
     "output_type": "stream",
     "text": [
      "28\n"
     ]
    }
   ],
   "source": [
    "print(len(gdf_tfrs.index))"
   ]
  },
  {
   "cell_type": "code",
   "execution_count": 5,
   "id": "a38706a3",
   "metadata": {},
   "outputs": [],
   "source": [
    "# Appending to logfile\n",
    "with open(logfilename, 'a') as logfile:\n",
    "    logfile.write('Number of evaluated TFRs for '+tfr+' '+str_buf_size+' SM: '+str(len(gdf_tfrs.index))+'\\n' )"
   ]
  },
  {
   "cell_type": "markdown",
   "id": "f6937546",
   "metadata": {},
   "source": [
    "### Buffer fire clusters"
   ]
  },
  {
   "cell_type": "markdown",
   "id": "a40c4cb9",
   "metadata": {},
   "source": [
    "Without any temporal relation yet, the same fire may be tied to multiple TFRs. For fires close to each other, issuing one large contiguous TFR is allowed, so the same TFR might contain multiple fires as well. So the resulting geodataframe can contain a multiple of rows compared to the origin.\n",
    "As the fire clusters used so far represent the largest extent of the fires within the observed time period (August to October 2021), those not leaving their TFR (after the fire cluster got buffered) can be omitted here. This is also done to limit the amount of API requests. But those fires (plus buffer) crossing TFR boundaries (=overlap in shapely terms) do need a closer look considering time."
   ]
  },
  {
   "cell_type": "markdown",
   "id": "9b3ca8ca",
   "metadata": {},
   "source": [
    "Now buffer fire clusters by specified amount of statute miles to get prepared for the overlap. "
   ]
  },
  {
   "cell_type": "code",
   "execution_count": 6,
   "id": "509a0c39",
   "metadata": {},
   "outputs": [],
   "source": [
    "#prepare buffer with a metric CRS\n",
    "gdf_fires_buffered = gdf_fires.copy()\n",
    "gdf_fires_buffered = gdf_fires_buffered.to_crs(\"EPSG:2163\")\n",
    "\n",
    "#perform buffer by amount of statute miles (SM), 1 SM = 1609.344 m\n",
    "gdf_fires_buffered[\"geometry\"] = gdf_fires_buffered.buffer(buf_size, resolution=16)\n",
    "\n",
    "#turn CRS back\n",
    "gdf_fires_buffered = gdf_fires_buffered.to_crs(\"EPSG:4326\")\n"
   ]
  },
  {
   "cell_type": "code",
   "execution_count": 7,
   "id": "be1e61d8",
   "metadata": {
    "scrolled": true
   },
   "outputs": [
    {
     "data": {
      "text/html": [
       "<div>\n",
       "<style scoped>\n",
       "    .dataframe tbody tr th:only-of-type {\n",
       "        vertical-align: middle;\n",
       "    }\n",
       "\n",
       "    .dataframe tbody tr th {\n",
       "        vertical-align: top;\n",
       "    }\n",
       "\n",
       "    .dataframe thead th {\n",
       "        text-align: right;\n",
       "    }\n",
       "</style>\n",
       "<table border=\"1\" class=\"dataframe\">\n",
       "  <thead>\n",
       "    <tr style=\"text-align: right;\">\n",
       "      <th></th>\n",
       "      <th>id</th>\n",
       "      <th>age</th>\n",
       "      <th>area</th>\n",
       "      <th>centroid</th>\n",
       "      <th>num_fires</th>\n",
       "      <th>confidence</th>\n",
       "      <th>newest_detection</th>\n",
       "      <th>oldest_detection</th>\n",
       "      <th>newest_acquisition</th>\n",
       "      <th>oldest_acquisition</th>\n",
       "      <th>geometry</th>\n",
       "    </tr>\n",
       "  </thead>\n",
       "  <tbody>\n",
       "    <tr>\n",
       "      <th>0</th>\n",
       "      <td>19778761</td>\n",
       "      <td>131964</td>\n",
       "      <td>1.697506e+07</td>\n",
       "      <td>{'latitude': 29.051065, 'longitude': -97.286025}</td>\n",
       "      <td>47</td>\n",
       "      <td>0.8</td>\n",
       "      <td>2021-08-01T11:07:57+00:00</td>\n",
       "      <td>2021-07-31T23:25:52+00:00</td>\n",
       "      <td>2021-08-01T08:36:21+00:00</td>\n",
       "      <td>2021-07-31T23:15:05+00:00</td>\n",
       "      <td>POLYGON ((-97.29353 29.11033, -97.28962 29.111...</td>\n",
       "    </tr>\n",
       "    <tr>\n",
       "      <th>1</th>\n",
       "      <td>19775166</td>\n",
       "      <td>131967</td>\n",
       "      <td>9.360254e+06</td>\n",
       "      <td>{'latitude': 43.104132, 'longitude': -102.572029}</td>\n",
       "      <td>45</td>\n",
       "      <td>1.0</td>\n",
       "      <td>2021-08-01T11:04:44+00:00</td>\n",
       "      <td>2021-08-01T03:25:31+00:00</td>\n",
       "      <td>2021-08-01T08:32:35+00:00</td>\n",
       "      <td>2021-07-31T19:25:18+00:00</td>\n",
       "      <td>POLYGON ((-102.63812 43.11719, -102.63716 43.1...</td>\n",
       "    </tr>\n",
       "  </tbody>\n",
       "</table>\n",
       "</div>"
      ],
      "text/plain": [
       "         id     age          area  \\\n",
       "0  19778761  131964  1.697506e+07   \n",
       "1  19775166  131967  9.360254e+06   \n",
       "\n",
       "                                            centroid  num_fires  confidence  \\\n",
       "0   {'latitude': 29.051065, 'longitude': -97.286025}         47         0.8   \n",
       "1  {'latitude': 43.104132, 'longitude': -102.572029}         45         1.0   \n",
       "\n",
       "            newest_detection           oldest_detection  \\\n",
       "0  2021-08-01T11:07:57+00:00  2021-07-31T23:25:52+00:00   \n",
       "1  2021-08-01T11:04:44+00:00  2021-08-01T03:25:31+00:00   \n",
       "\n",
       "          newest_acquisition         oldest_acquisition  \\\n",
       "0  2021-08-01T08:36:21+00:00  2021-07-31T23:15:05+00:00   \n",
       "1  2021-08-01T08:32:35+00:00  2021-07-31T19:25:18+00:00   \n",
       "\n",
       "                                            geometry  \n",
       "0  POLYGON ((-97.29353 29.11033, -97.28962 29.111...  \n",
       "1  POLYGON ((-102.63812 43.11719, -102.63716 43.1...  "
      ]
     },
     "execution_count": 7,
     "metadata": {},
     "output_type": "execute_result"
    }
   ],
   "source": [
    "gdf_fires_buffered.head(2)"
   ]
  },
  {
   "cell_type": "markdown",
   "id": "9eead09e",
   "metadata": {},
   "source": [
    "### Join buffered fire clusters and TFRs"
   ]
  },
  {
   "cell_type": "markdown",
   "id": "f2199548",
   "metadata": {},
   "source": [
    "Geopandas sjoin is \"one to many\" automatically. Inner join is needed to limit fire clusters to those actually fulfilling the predicate.  "
   ]
  },
  {
   "cell_type": "markdown",
   "id": "6a1da3e8",
   "metadata": {},
   "source": [
    "Just to look for intersect is expected to deliver way too many fire clusters (even with unbuffered ones)."
   ]
  },
  {
   "cell_type": "code",
   "execution_count": 8,
   "id": "b1c9ba95",
   "metadata": {},
   "outputs": [],
   "source": [
    "#perform join of gdfs\n",
    "#gdf_intersect = gpd.sjoin(gdf_fires, gdf_tfrs, how='inner', predicate='intersects')\n",
    "#gdf_intersect"
   ]
  },
  {
   "cell_type": "code",
   "execution_count": 9,
   "id": "20eddc59",
   "metadata": {},
   "outputs": [],
   "source": [
    "#If it is ever needed to join a join result again, index columns need to get renamend\n",
    "#gdf_intersect.rename(columns = {'index_right':'old_index_right'}, inplace = True)"
   ]
  },
  {
   "cell_type": "code",
   "execution_count": 10,
   "id": "c1a1cf86",
   "metadata": {},
   "outputs": [],
   "source": [
    "gdf_runfires_bybuff = gpd.sjoin(gdf_fires_buffered, gdf_tfrs, how='inner', predicate='overlaps')"
   ]
  },
  {
   "cell_type": "markdown",
   "id": "0942f5f1",
   "metadata": {},
   "source": [
    "This is one possible \"exit point\": If nothing overlaps, then the buffered fires are contained within the TFRs and the resulting geodataframe has 0 rows. Exit is then performed after the follwoing 2 log entries."
   ]
  },
  {
   "cell_type": "markdown",
   "id": "11cfa613",
   "metadata": {},
   "source": [
    "Within the observed data, this is the case for: ZAB"
   ]
  },
  {
   "cell_type": "markdown",
   "id": "f9aac418",
   "metadata": {},
   "source": [
    "However, there is an exception for an extreme case, if the fire plus buffer has already spread over the entire TFR, this has to be checked:"
   ]
  },
  {
   "cell_type": "code",
   "execution_count": 11,
   "id": "3071762f",
   "metadata": {},
   "outputs": [],
   "source": [
    "#check for buffered fire already covering entire TFR\n",
    "gdf_coveringfires_bybuff = gpd.sjoin(gdf_fires_buffered, gdf_tfrs, how='inner', predicate='contains')"
   ]
  },
  {
   "cell_type": "code",
   "execution_count": 12,
   "id": "d6eb7c3b",
   "metadata": {},
   "outputs": [
    {
     "data": {
      "text/html": [
       "<div>\n",
       "<style scoped>\n",
       "    .dataframe tbody tr th:only-of-type {\n",
       "        vertical-align: middle;\n",
       "    }\n",
       "\n",
       "    .dataframe tbody tr th {\n",
       "        vertical-align: top;\n",
       "    }\n",
       "\n",
       "    .dataframe thead th {\n",
       "        text-align: right;\n",
       "    }\n",
       "</style>\n",
       "<table border=\"1\" class=\"dataframe\">\n",
       "  <thead>\n",
       "    <tr style=\"text-align: right;\">\n",
       "      <th></th>\n",
       "      <th>id</th>\n",
       "      <th>age</th>\n",
       "      <th>area</th>\n",
       "      <th>centroid</th>\n",
       "      <th>num_fires</th>\n",
       "      <th>confidence</th>\n",
       "      <th>newest_detection</th>\n",
       "      <th>oldest_detection</th>\n",
       "      <th>newest_acquisition</th>\n",
       "      <th>oldest_acquisition</th>\n",
       "      <th>...</th>\n",
       "      <th>Source</th>\n",
       "      <th>Location</th>\n",
       "      <th>NOTAM #</th>\n",
       "      <th>Issue Date (UTC)</th>\n",
       "      <th>Effective Date (UTC)</th>\n",
       "      <th>Cancel Date (UTC)</th>\n",
       "      <th>Expiration Date (UTC)</th>\n",
       "      <th>NOTAM Condition or LTA Subject</th>\n",
       "      <th>Radius</th>\n",
       "      <th>Radius_m</th>\n",
       "    </tr>\n",
       "  </thead>\n",
       "  <tbody>\n",
       "    <tr>\n",
       "      <th>862</th>\n",
       "      <td>20866464</td>\n",
       "      <td>87258</td>\n",
       "      <td>2.916087e+07</td>\n",
       "      <td>{'latitude': 40.1618, 'longitude': -106.237305}</td>\n",
       "      <td>587</td>\n",
       "      <td>1.0</td>\n",
       "      <td>2021-09-01T12:22:13+00:00</td>\n",
       "      <td>2021-08-29T22:24:39+00:00</td>\n",
       "      <td>2021-09-01T09:42:27+00:00</td>\n",
       "      <td>2021-08-29T19:31:23+00:00</td>\n",
       "      <td>...</td>\n",
       "      <td>ZDV_2021-08-30</td>\n",
       "      <td>ZDV</td>\n",
       "      <td>1/8134</td>\n",
       "      <td>08/30/2021 0201</td>\n",
       "      <td>08/30/2021 1400</td>\n",
       "      <td>09/07/2021 1405</td>\n",
       "      <td>10/29/2021 0200</td>\n",
       "      <td>!FDC 1/8134 ZDV CO..AIRSPACE 8NM NE OF KREMLIN...</td>\n",
       "      <td>3.0</td>\n",
       "      <td>5556.0</td>\n",
       "    </tr>\n",
       "  </tbody>\n",
       "</table>\n",
       "<p>1 rows × 22 columns</p>\n",
       "</div>"
      ],
      "text/plain": [
       "           id    age          area  \\\n",
       "862  20866464  87258  2.916087e+07   \n",
       "\n",
       "                                            centroid  num_fires  confidence  \\\n",
       "862  {'latitude': 40.1618, 'longitude': -106.237305}        587         1.0   \n",
       "\n",
       "              newest_detection           oldest_detection  \\\n",
       "862  2021-09-01T12:22:13+00:00  2021-08-29T22:24:39+00:00   \n",
       "\n",
       "            newest_acquisition         oldest_acquisition  ...  \\\n",
       "862  2021-09-01T09:42:27+00:00  2021-08-29T19:31:23+00:00  ...   \n",
       "\n",
       "             Source  Location NOTAM # Issue Date (UTC) Effective Date (UTC)  \\\n",
       "862  ZDV_2021-08-30       ZDV  1/8134  08/30/2021 0201      08/30/2021 1400   \n",
       "\n",
       "    Cancel Date (UTC) Expiration Date (UTC)  \\\n",
       "862   09/07/2021 1405       10/29/2021 0200   \n",
       "\n",
       "                        NOTAM Condition or LTA Subject Radius Radius_m  \n",
       "862  !FDC 1/8134 ZDV CO..AIRSPACE 8NM NE OF KREMLIN...    3.0   5556.0  \n",
       "\n",
       "[1 rows x 22 columns]"
      ]
     },
     "execution_count": 12,
     "metadata": {},
     "output_type": "execute_result"
    }
   ],
   "source": [
    "gdf_coveringfires_bybuff.head(2)"
   ]
  },
  {
   "cell_type": "code",
   "execution_count": 13,
   "id": "9caf32bc",
   "metadata": {},
   "outputs": [],
   "source": [
    "#concatenate dataframes if buffered fires contain an entire TFR\n",
    "if len(gdf_coveringfires_bybuff.index)>0:\n",
    "    frames = [gdf_runfires_bybuff, gdf_coveringfires_bybuff]\n",
    "    gdf_runfires_bybuff = gpd.GeoDataFrame(pd.concat(frames, sort=False))\n",
    "\n",
    "    "
   ]
  },
  {
   "cell_type": "code",
   "execution_count": 14,
   "id": "564dcf39",
   "metadata": {
    "scrolled": false
   },
   "outputs": [
    {
     "data": {
      "text/html": [
       "<div>\n",
       "<style scoped>\n",
       "    .dataframe tbody tr th:only-of-type {\n",
       "        vertical-align: middle;\n",
       "    }\n",
       "\n",
       "    .dataframe tbody tr th {\n",
       "        vertical-align: top;\n",
       "    }\n",
       "\n",
       "    .dataframe thead th {\n",
       "        text-align: right;\n",
       "    }\n",
       "</style>\n",
       "<table border=\"1\" class=\"dataframe\">\n",
       "  <thead>\n",
       "    <tr style=\"text-align: right;\">\n",
       "      <th></th>\n",
       "      <th>id</th>\n",
       "      <th>age</th>\n",
       "      <th>area</th>\n",
       "      <th>centroid</th>\n",
       "      <th>num_fires</th>\n",
       "      <th>confidence</th>\n",
       "      <th>newest_detection</th>\n",
       "      <th>oldest_detection</th>\n",
       "      <th>newest_acquisition</th>\n",
       "      <th>oldest_acquisition</th>\n",
       "      <th>...</th>\n",
       "      <th>Source</th>\n",
       "      <th>Location</th>\n",
       "      <th>NOTAM #</th>\n",
       "      <th>Issue Date (UTC)</th>\n",
       "      <th>Effective Date (UTC)</th>\n",
       "      <th>Cancel Date (UTC)</th>\n",
       "      <th>Expiration Date (UTC)</th>\n",
       "      <th>NOTAM Condition or LTA Subject</th>\n",
       "      <th>Radius</th>\n",
       "      <th>Radius_m</th>\n",
       "    </tr>\n",
       "  </thead>\n",
       "  <tbody>\n",
       "    <tr>\n",
       "      <th>257</th>\n",
       "      <td>19952554</td>\n",
       "      <td>121182</td>\n",
       "      <td>4.859015e+07</td>\n",
       "      <td>{'latitude': 41.527944, 'longitude': -103.350363}</td>\n",
       "      <td>635</td>\n",
       "      <td>1.0</td>\n",
       "      <td>2021-08-09T18:11:45+00:00</td>\n",
       "      <td>2021-08-06T04:06:48+00:00</td>\n",
       "      <td>2021-08-09T02:55:05+00:00</td>\n",
       "      <td>2021-08-06T02:55:05+00:00</td>\n",
       "      <td>...</td>\n",
       "      <td>ZDV_2021-08-06</td>\n",
       "      <td>ZDV</td>\n",
       "      <td>1/2974</td>\n",
       "      <td>08/06/2021 1847</td>\n",
       "      <td>08/06/2021 1830</td>\n",
       "      <td>None</td>\n",
       "      <td>08/07/2021 0400</td>\n",
       "      <td>!FDC 1/2974 ZDV CANCELLED BY FDC 1/3037 ON 08/...</td>\n",
       "      <td>7.0</td>\n",
       "      <td>12964.0</td>\n",
       "    </tr>\n",
       "    <tr>\n",
       "      <th>257</th>\n",
       "      <td>19952554</td>\n",
       "      <td>121182</td>\n",
       "      <td>4.859015e+07</td>\n",
       "      <td>{'latitude': 41.527944, 'longitude': -103.350363}</td>\n",
       "      <td>635</td>\n",
       "      <td>1.0</td>\n",
       "      <td>2021-08-09T18:11:45+00:00</td>\n",
       "      <td>2021-08-06T04:06:48+00:00</td>\n",
       "      <td>2021-08-09T02:55:05+00:00</td>\n",
       "      <td>2021-08-06T02:55:05+00:00</td>\n",
       "      <td>...</td>\n",
       "      <td>ZDV_2021-08-07</td>\n",
       "      <td>ZDV</td>\n",
       "      <td>1/3125</td>\n",
       "      <td>08/07/2021 1436</td>\n",
       "      <td>08/07/2021 1450</td>\n",
       "      <td>08/07/2021 2018</td>\n",
       "      <td>08/08/2021 0300</td>\n",
       "      <td>!FDC 1/3125 ZDV NE..AIRSPACE 24NM SSE SCOTTSBL...</td>\n",
       "      <td>7.0</td>\n",
       "      <td>12964.0</td>\n",
       "    </tr>\n",
       "  </tbody>\n",
       "</table>\n",
       "<p>2 rows × 22 columns</p>\n",
       "</div>"
      ],
      "text/plain": [
       "           id     age          area  \\\n",
       "257  19952554  121182  4.859015e+07   \n",
       "257  19952554  121182  4.859015e+07   \n",
       "\n",
       "                                              centroid  num_fires  confidence  \\\n",
       "257  {'latitude': 41.527944, 'longitude': -103.350363}        635         1.0   \n",
       "257  {'latitude': 41.527944, 'longitude': -103.350363}        635         1.0   \n",
       "\n",
       "              newest_detection           oldest_detection  \\\n",
       "257  2021-08-09T18:11:45+00:00  2021-08-06T04:06:48+00:00   \n",
       "257  2021-08-09T18:11:45+00:00  2021-08-06T04:06:48+00:00   \n",
       "\n",
       "            newest_acquisition         oldest_acquisition  ...  \\\n",
       "257  2021-08-09T02:55:05+00:00  2021-08-06T02:55:05+00:00  ...   \n",
       "257  2021-08-09T02:55:05+00:00  2021-08-06T02:55:05+00:00  ...   \n",
       "\n",
       "             Source  Location NOTAM # Issue Date (UTC) Effective Date (UTC)  \\\n",
       "257  ZDV_2021-08-06       ZDV  1/2974  08/06/2021 1847      08/06/2021 1830   \n",
       "257  ZDV_2021-08-07       ZDV  1/3125  08/07/2021 1436      08/07/2021 1450   \n",
       "\n",
       "    Cancel Date (UTC) Expiration Date (UTC)  \\\n",
       "257              None       08/07/2021 0400   \n",
       "257   08/07/2021 2018       08/08/2021 0300   \n",
       "\n",
       "                        NOTAM Condition or LTA Subject Radius Radius_m  \n",
       "257  !FDC 1/2974 ZDV CANCELLED BY FDC 1/3037 ON 08/...    7.0  12964.0  \n",
       "257  !FDC 1/3125 ZDV NE..AIRSPACE 24NM SSE SCOTTSBL...    7.0  12964.0  \n",
       "\n",
       "[2 rows x 22 columns]"
      ]
     },
     "execution_count": 14,
     "metadata": {},
     "output_type": "execute_result"
    }
   ],
   "source": [
    "# change the global options that Geopandas inherits from if more rows/columns shall be displayed\n",
    "# pd.set_option('display.max_columns',None)\n",
    "gdf_runfires_bybuff.head(2)"
   ]
  },
  {
   "cell_type": "markdown",
   "id": "1fa7c65f",
   "metadata": {},
   "source": [
    "Number of cases where fire leaves TFR"
   ]
  },
  {
   "cell_type": "code",
   "execution_count": 15,
   "id": "c08d9c41",
   "metadata": {},
   "outputs": [
    {
     "name": "stdout",
     "output_type": "stream",
     "text": [
      "11\n"
     ]
    }
   ],
   "source": [
    "print(len(gdf_runfires_bybuff.index))"
   ]
  },
  {
   "cell_type": "markdown",
   "id": "95f52e4e",
   "metadata": {},
   "source": [
    "ZDV (3 SM): 11"
   ]
  },
  {
   "cell_type": "markdown",
   "id": "5ce18246",
   "metadata": {},
   "source": [
    "ZDV (1 SM): 5"
   ]
  },
  {
   "cell_type": "code",
   "execution_count": 16,
   "id": "de82ba6f",
   "metadata": {},
   "outputs": [],
   "source": [
    "# Appending to logfile\n",
    "with open(logfilename, 'a') as logfile:\n",
    "    logfile.write('Number of potential cases where fire leaves TFR for '+tfr+' '+str_buf_size+' SM: '+str(len(gdf_runfires_bybuff.index))+'\\n' )"
   ]
  },
  {
   "cell_type": "markdown",
   "id": "3fb4306b",
   "metadata": {},
   "source": [
    "### Tasks to fill payload to get current fires:"
   ]
  },
  {
   "cell_type": "markdown",
   "id": "aee4c0ff",
   "metadata": {},
   "source": [
    "To create a payload per fire per TFR, each time\n",
    "A) bounding box coordinates and"
   ]
  },
  {
   "cell_type": "markdown",
   "id": "3e0bdf31",
   "metadata": {},
   "source": [
    "B) a time period represented as (end) 'date' and duration in 'minutes' are needed."
   ]
  },
  {
   "cell_type": "markdown",
   "id": "95261018",
   "metadata": {},
   "source": [
    "### A) Bounding Box"
   ]
  },
  {
   "cell_type": "markdown",
   "id": "ee05d31f",
   "metadata": {},
   "source": [
    "The buffered fire clusters overlapping any TFR are potentially those causing a safety threat. The following \"selection\" shows, how many there are."
   ]
  },
  {
   "cell_type": "code",
   "execution_count": 17,
   "id": "5f39961d",
   "metadata": {},
   "outputs": [],
   "source": [
    "# Select fire clusters that overlapped while being buffered to get a fire(row) count to mention.\n",
    "options = gdf_runfires_bybuff[\"id\"]\n",
    "gdf_fires_tofetch = gdf_fires[gdf_fires[\"id\"].isin(options)]"
   ]
  },
  {
   "cell_type": "code",
   "execution_count": 18,
   "id": "635dfe20",
   "metadata": {
    "scrolled": true
   },
   "outputs": [
    {
     "name": "stdout",
     "output_type": "stream",
     "text": [
      "7\n"
     ]
    }
   ],
   "source": [
    "print(len(gdf_fires_tofetch.index))"
   ]
  },
  {
   "cell_type": "markdown",
   "id": "9dc1d475",
   "metadata": {},
   "source": [
    "Number of fire events leaving TFR"
   ]
  },
  {
   "cell_type": "markdown",
   "id": "056c246e",
   "metadata": {},
   "source": [
    "ZDV (3 SM): 7"
   ]
  },
  {
   "cell_type": "markdown",
   "id": "f0cd7c35",
   "metadata": {},
   "source": [
    "ZDV (1 SM): 1"
   ]
  },
  {
   "cell_type": "code",
   "execution_count": 19,
   "id": "7bebae98",
   "metadata": {},
   "outputs": [],
   "source": [
    "# Appending to logfile\n",
    "with open(logfilename, 'a') as logfile:\n",
    "    logfile.write('Number of potential fire events leaving TFR for '+tfr+' '+str_buf_size+' SM: '+str(len(gdf_fires_tofetch.index))+'\\n' )"
   ]
  },
  {
   "cell_type": "code",
   "execution_count": 20,
   "id": "7ab94dd9",
   "metadata": {},
   "outputs": [],
   "source": [
    "# exit script with an empty result file if intersect geodataframe has 0 rows\n",
    "if len(gdf_runfires_bybuff.index) ==0:\n",
    "    sys.exit(0)"
   ]
  },
  {
   "cell_type": "markdown",
   "id": "0c770d70",
   "metadata": {},
   "source": [
    "For simplification, the work is continued with the buffered dataset. Bounding box coordinates are added to the geodataframe."
   ]
  },
  {
   "cell_type": "code",
   "execution_count": 21,
   "id": "0c831898",
   "metadata": {},
   "outputs": [],
   "source": [
    "# Geopands´ .bounds delivers coordinates of the boundary boxes\n",
    "gdf_bbox = gdf_runfires_bybuff.bounds"
   ]
  },
  {
   "cell_type": "code",
   "execution_count": 22,
   "id": "2c803576",
   "metadata": {
    "scrolled": true
   },
   "outputs": [
    {
     "data": {
      "text/html": [
       "<div>\n",
       "<style scoped>\n",
       "    .dataframe tbody tr th:only-of-type {\n",
       "        vertical-align: middle;\n",
       "    }\n",
       "\n",
       "    .dataframe tbody tr th {\n",
       "        vertical-align: top;\n",
       "    }\n",
       "\n",
       "    .dataframe thead th {\n",
       "        text-align: right;\n",
       "    }\n",
       "</style>\n",
       "<table border=\"1\" class=\"dataframe\">\n",
       "  <thead>\n",
       "    <tr style=\"text-align: right;\">\n",
       "      <th></th>\n",
       "      <th>minx</th>\n",
       "      <th>miny</th>\n",
       "      <th>maxx</th>\n",
       "      <th>maxy</th>\n",
       "    </tr>\n",
       "  </thead>\n",
       "  <tbody>\n",
       "    <tr>\n",
       "      <th>257</th>\n",
       "      <td>-103.472792</td>\n",
       "      <td>41.444095</td>\n",
       "      <td>-103.24504</td>\n",
       "      <td>41.60568</td>\n",
       "    </tr>\n",
       "    <tr>\n",
       "      <th>257</th>\n",
       "      <td>-103.472792</td>\n",
       "      <td>41.444095</td>\n",
       "      <td>-103.24504</td>\n",
       "      <td>41.60568</td>\n",
       "    </tr>\n",
       "  </tbody>\n",
       "</table>\n",
       "</div>"
      ],
      "text/plain": [
       "           minx       miny       maxx      maxy\n",
       "257 -103.472792  41.444095 -103.24504  41.60568\n",
       "257 -103.472792  41.444095 -103.24504  41.60568"
      ]
     },
     "execution_count": 22,
     "metadata": {},
     "output_type": "execute_result"
    }
   ],
   "source": [
    "gdf_bbox.head(2)"
   ]
  },
  {
   "cell_type": "code",
   "execution_count": 23,
   "id": "5a26d7f6",
   "metadata": {},
   "outputs": [],
   "source": [
    "#just use pd.concat / axis=1 to append boundary box coordinates\n",
    "gdf_runfires_bybuff = pd.concat([gdf_runfires_bybuff, gdf_bbox], axis=1)"
   ]
  },
  {
   "cell_type": "code",
   "execution_count": 24,
   "id": "5852eb15",
   "metadata": {},
   "outputs": [
    {
     "data": {
      "text/html": [
       "<div>\n",
       "<style scoped>\n",
       "    .dataframe tbody tr th:only-of-type {\n",
       "        vertical-align: middle;\n",
       "    }\n",
       "\n",
       "    .dataframe tbody tr th {\n",
       "        vertical-align: top;\n",
       "    }\n",
       "\n",
       "    .dataframe thead th {\n",
       "        text-align: right;\n",
       "    }\n",
       "</style>\n",
       "<table border=\"1\" class=\"dataframe\">\n",
       "  <thead>\n",
       "    <tr style=\"text-align: right;\">\n",
       "      <th></th>\n",
       "      <th>id</th>\n",
       "      <th>age</th>\n",
       "      <th>area</th>\n",
       "      <th>centroid</th>\n",
       "      <th>num_fires</th>\n",
       "      <th>confidence</th>\n",
       "      <th>newest_detection</th>\n",
       "      <th>oldest_detection</th>\n",
       "      <th>newest_acquisition</th>\n",
       "      <th>oldest_acquisition</th>\n",
       "      <th>...</th>\n",
       "      <th>Effective Date (UTC)</th>\n",
       "      <th>Cancel Date (UTC)</th>\n",
       "      <th>Expiration Date (UTC)</th>\n",
       "      <th>NOTAM Condition or LTA Subject</th>\n",
       "      <th>Radius</th>\n",
       "      <th>Radius_m</th>\n",
       "      <th>minx</th>\n",
       "      <th>miny</th>\n",
       "      <th>maxx</th>\n",
       "      <th>maxy</th>\n",
       "    </tr>\n",
       "  </thead>\n",
       "  <tbody>\n",
       "    <tr>\n",
       "      <th>257</th>\n",
       "      <td>19952554</td>\n",
       "      <td>121182</td>\n",
       "      <td>4.859015e+07</td>\n",
       "      <td>{'latitude': 41.527944, 'longitude': -103.350363}</td>\n",
       "      <td>635</td>\n",
       "      <td>1.0</td>\n",
       "      <td>2021-08-09T18:11:45+00:00</td>\n",
       "      <td>2021-08-06T04:06:48+00:00</td>\n",
       "      <td>2021-08-09T02:55:05+00:00</td>\n",
       "      <td>2021-08-06T02:55:05+00:00</td>\n",
       "      <td>...</td>\n",
       "      <td>08/06/2021 1830</td>\n",
       "      <td>None</td>\n",
       "      <td>08/07/2021 0400</td>\n",
       "      <td>!FDC 1/2974 ZDV CANCELLED BY FDC 1/3037 ON 08/...</td>\n",
       "      <td>7.0</td>\n",
       "      <td>12964.0</td>\n",
       "      <td>-103.472792</td>\n",
       "      <td>41.444095</td>\n",
       "      <td>-103.24504</td>\n",
       "      <td>41.60568</td>\n",
       "    </tr>\n",
       "    <tr>\n",
       "      <th>257</th>\n",
       "      <td>19952554</td>\n",
       "      <td>121182</td>\n",
       "      <td>4.859015e+07</td>\n",
       "      <td>{'latitude': 41.527944, 'longitude': -103.350363}</td>\n",
       "      <td>635</td>\n",
       "      <td>1.0</td>\n",
       "      <td>2021-08-09T18:11:45+00:00</td>\n",
       "      <td>2021-08-06T04:06:48+00:00</td>\n",
       "      <td>2021-08-09T02:55:05+00:00</td>\n",
       "      <td>2021-08-06T02:55:05+00:00</td>\n",
       "      <td>...</td>\n",
       "      <td>08/07/2021 1450</td>\n",
       "      <td>08/07/2021 2018</td>\n",
       "      <td>08/08/2021 0300</td>\n",
       "      <td>!FDC 1/3125 ZDV NE..AIRSPACE 24NM SSE SCOTTSBL...</td>\n",
       "      <td>7.0</td>\n",
       "      <td>12964.0</td>\n",
       "      <td>-103.472792</td>\n",
       "      <td>41.444095</td>\n",
       "      <td>-103.24504</td>\n",
       "      <td>41.60568</td>\n",
       "    </tr>\n",
       "  </tbody>\n",
       "</table>\n",
       "<p>2 rows × 26 columns</p>\n",
       "</div>"
      ],
      "text/plain": [
       "           id     age          area  \\\n",
       "257  19952554  121182  4.859015e+07   \n",
       "257  19952554  121182  4.859015e+07   \n",
       "\n",
       "                                              centroid  num_fires  confidence  \\\n",
       "257  {'latitude': 41.527944, 'longitude': -103.350363}        635         1.0   \n",
       "257  {'latitude': 41.527944, 'longitude': -103.350363}        635         1.0   \n",
       "\n",
       "              newest_detection           oldest_detection  \\\n",
       "257  2021-08-09T18:11:45+00:00  2021-08-06T04:06:48+00:00   \n",
       "257  2021-08-09T18:11:45+00:00  2021-08-06T04:06:48+00:00   \n",
       "\n",
       "            newest_acquisition         oldest_acquisition  ...  \\\n",
       "257  2021-08-09T02:55:05+00:00  2021-08-06T02:55:05+00:00  ...   \n",
       "257  2021-08-09T02:55:05+00:00  2021-08-06T02:55:05+00:00  ...   \n",
       "\n",
       "    Effective Date (UTC)  Cancel Date (UTC) Expiration Date (UTC)  \\\n",
       "257      08/06/2021 1830               None       08/07/2021 0400   \n",
       "257      08/07/2021 1450    08/07/2021 2018       08/08/2021 0300   \n",
       "\n",
       "                        NOTAM Condition or LTA Subject Radius Radius_m  \\\n",
       "257  !FDC 1/2974 ZDV CANCELLED BY FDC 1/3037 ON 08/...    7.0  12964.0   \n",
       "257  !FDC 1/3125 ZDV NE..AIRSPACE 24NM SSE SCOTTSBL...    7.0  12964.0   \n",
       "\n",
       "           minx       miny       maxx      maxy  \n",
       "257 -103.472792  41.444095 -103.24504  41.60568  \n",
       "257 -103.472792  41.444095 -103.24504  41.60568  \n",
       "\n",
       "[2 rows x 26 columns]"
      ]
     },
     "execution_count": 24,
     "metadata": {},
     "output_type": "execute_result"
    }
   ],
   "source": [
    "#check attached columns, if needed\n",
    "gdf_runfires_bybuff.head(2)"
   ]
  },
  {
   "cell_type": "markdown",
   "id": "fc5266bf",
   "metadata": {},
   "source": [
    "### B) (Part 1) Get minutes for the API request"
   ]
  },
  {
   "cell_type": "markdown",
   "id": "cbceacae",
   "metadata": {},
   "source": [
    "Getting the time values for the request cannot be done on column level as the Cancel Date (UTC) may be empty or even be before the Effective Date (UTC) if there is no longer a threat or a flight planned."
   ]
  },
  {
   "cell_type": "code",
   "execution_count": 25,
   "id": "4e27e423",
   "metadata": {},
   "outputs": [],
   "source": [
    "#get minutes value for the API request\n",
    "def get_minutes(row):\n",
    "    startdate = row[\"Effective Date (UTC)\"]\n",
    "    \n",
    "    enddate= row[\"Cancel Date (UTC)\"]\n",
    "    if enddate == None:\n",
    "        enddate= row[\"Expiration Date (UTC)\"]\n",
    "    \n",
    "    duration = pd.to_datetime(enddate, errors='coerce') - pd.to_datetime(startdate, errors='coerce')\n",
    "        \n",
    "    minutes = duration.total_seconds()/60\n",
    "    \n",
    "    minutes = int(minutes)\n",
    "    \n",
    "    return minutes\n",
    "gdf_runfires_bybuff[\"Minutes\"]=gdf_runfires_bybuff.apply(get_minutes,axis=1)"
   ]
  },
  {
   "cell_type": "code",
   "execution_count": 26,
   "id": "543919ad",
   "metadata": {
    "scrolled": true
   },
   "outputs": [],
   "source": [
    "#column-wise calculation if it was possible\n",
    "# gdf_runfires_bybuff[\"restr_duration\"] = pd.to_datetime(gdf_runfires_bybuff[\"Cancel Date (UTC)\"], errors='coerce') - pd.to_datetime(gdf_runfires_bybuff[\"Effective Date (UTC)\"], errors='coerce')\n",
    "# gdf_runfires_bybuff[\"Minutes\"] = gdf_runfires_bybuff[\"restr_duration\"].dt.total_seconds().div(60)"
   ]
  },
  {
   "cell_type": "code",
   "execution_count": 27,
   "id": "53d7eccc",
   "metadata": {},
   "outputs": [
    {
     "data": {
      "text/plain": [
       "257    570\n",
       "257    328\n",
       "Name: Minutes, dtype: int64"
      ]
     },
     "execution_count": 27,
     "metadata": {},
     "output_type": "execute_result"
    }
   ],
   "source": [
    "gdf_runfires_bybuff[\"Minutes\"].head(2)"
   ]
  },
  {
   "cell_type": "markdown",
   "id": "f6d109c5",
   "metadata": {},
   "source": [
    "For the API, 0 or a negative value is invalid: {'message': 'Invalid range for minutes parameter'} Thus, the related rows need to become removed"
   ]
  },
  {
   "cell_type": "code",
   "execution_count": 28,
   "id": "635043ae",
   "metadata": {},
   "outputs": [],
   "source": [
    "#keep only rows where \"Minutes\" >= 0\n",
    "gdf_runfires_bybuff = gdf_runfires_bybuff[gdf_runfires_bybuff[\"Minutes\"]>=0]"
   ]
  },
  {
   "cell_type": "markdown",
   "id": "c83df056",
   "metadata": {},
   "source": [
    "### B) (Part 2) Get date(time) for the API request"
   ]
  },
  {
   "cell_type": "markdown",
   "id": "5866bf1a",
   "metadata": {},
   "source": [
    "The date from when the API goes back needs to get acquired as follows: 'date': '2021-08-16-0200'"
   ]
  },
  {
   "cell_type": "code",
   "execution_count": 29,
   "id": "06d7f75f",
   "metadata": {},
   "outputs": [],
   "source": [
    "#get date for the API request\n",
    "def get_apidate(row):\n",
    "    \n",
    "    enddate= row[\"Cancel Date (UTC)\"]\n",
    "    if enddate == None:\n",
    "        enddate= row[\"Expiration Date (UTC)\"]\n",
    "        #if both enddate columns become read, a SettingWithCopyWarning occurs, which is ok\n",
    "    \n",
    "    #endate is 'MM/DD/YYYY hhmm' format (s string)\n",
    "    #turn to  'YYYY-MM-DD-hhmm' format for API. Mind strftime() Directives\n",
    "    enddate = pd.to_datetime(enddate,errors='coerce')\n",
    "    enddate = enddate.strftime('%Y-%m-%d-%H%M')\n",
    "    \n",
    "    apidate = enddate\n",
    "    \n",
    "    return apidate\n",
    "gdf_runfires_bybuff[\"APIdate\"]=gdf_runfires_bybuff.apply(get_apidate,axis=1)"
   ]
  },
  {
   "cell_type": "code",
   "execution_count": 30,
   "id": "a7ed4b3e",
   "metadata": {
    "scrolled": true
   },
   "outputs": [
    {
     "data": {
      "text/plain": [
       "257    2021-08-07-0400\n",
       "257    2021-08-07-2018\n",
       "Name: APIdate, dtype: object"
      ]
     },
     "execution_count": 30,
     "metadata": {},
     "output_type": "execute_result"
    }
   ],
   "source": [
    "gdf_runfires_bybuff[\"APIdate\"].head(2)"
   ]
  },
  {
   "cell_type": "markdown",
   "id": "93d90533",
   "metadata": {},
   "source": [
    "### Perform the API request"
   ]
  },
  {
   "cell_type": "markdown",
   "id": "e45d4566",
   "metadata": {},
   "source": [
    "A minimum confidence of 0.5 is recommended by Ororatech for analysis of historical data. So, 'confidence' must be set to 0.4 as the API looks for everything ABOVE."
   ]
  },
  {
   "cell_type": "code",
   "execution_count": 31,
   "id": "90dbfd11",
   "metadata": {
    "scrolled": false
   },
   "outputs": [],
   "source": [
    "def get_clusterPerAPI(row):\n",
    "    #collect payload content per row\n",
    "    xmin_pl = str(row[\"minx\"])\n",
    "    ymin_pl = str(row[\"miny\"])\n",
    "    xmax_pl = str(row[\"maxx\"])\n",
    "    ymax_pl = str(row[\"maxy\"])\n",
    "    minute_pl = str(row[\"Minutes\"])\n",
    "    date_pl = str(row[\"APIdate\"])\n",
    "    \n",
    "    payload = {'xmin': xmin_pl,\n",
    "                   'ymin': ymin_pl,\n",
    "                   'xmax': xmax_pl,\n",
    "                   'ymax': ymax_pl,\n",
    "                   'minutes': minute_pl,\n",
    "                   'date': date_pl,\n",
    "                   'confidence': '0.4',\n",
    "                   'select': ['oldest_detection,oldest_acquisition,types'] ,\n",
    "                   'token': APIkey}\n",
    "    \n",
    "    #the request:\n",
    "    response = requests.get('https://app.ororatech.com/v1/clusters/',params=payload)\n",
    "    \n",
    "    #test request:\n",
    "    #testpayload = {'xmin': '-117.86', 'ymin': '47.88', 'xmax': '-117.53', 'ymax': '48.00', 'minutes': '360', 'date': '2021-08-16-0200','confidence': '0.5', 'token': APIkey}\n",
    "    #response = requests.get('https://app.ororatech.com/v1/clusters/',params=testpayload)\n",
    "    \n",
    "    data = response.json()\n",
    "    #if data is not None does not help in case of an \"empty\" json\n",
    "    #in that case, response.json() = {'type': 'FeatureCollection', 'features': None}\n",
    "    #would lead to an error, trying to create agdf from features\n",
    "    if data != {'type': 'FeatureCollection', 'features': None}:\n",
    "        #columns=['geometry', 'id', 'num_fires']\n",
    "        gdf_local = gpd.GeoDataFrame.from_features(data)\n",
    "    else:\n",
    "        #else prepare an empty gdf for return\n",
    "        gdf_local = gpd.GeoDataFrame()\n",
    "    \n",
    "    return gdf_local\n",
    "\n",
    "series_of_gdfs = gdf_runfires_bybuff.apply(get_clusterPerAPI,axis=1)\n",
    "list_of_gdfs= series_of_gdfs.tolist()\n",
    "\n",
    "#concat returned gdfs; empty ones are not cosidered by default\n",
    "gdf_current = gpd.GeoDataFrame(pd.concat(list_of_gdfs, ignore_index=True))\n",
    "\n",
    "#gdf_current is a geodataframe, but crs has still to be specified\n",
    "gdf_current = gdf_current.set_crs(\"EPSG:4326\", allow_override=True)\n"
   ]
  },
  {
   "cell_type": "code",
   "execution_count": 32,
   "id": "8eec334a",
   "metadata": {
    "scrolled": true
   },
   "outputs": [
    {
     "data": {
      "text/html": [
       "<div>\n",
       "<style scoped>\n",
       "    .dataframe tbody tr th:only-of-type {\n",
       "        vertical-align: middle;\n",
       "    }\n",
       "\n",
       "    .dataframe tbody tr th {\n",
       "        vertical-align: top;\n",
       "    }\n",
       "\n",
       "    .dataframe thead th {\n",
       "        text-align: right;\n",
       "    }\n",
       "</style>\n",
       "<table border=\"1\" class=\"dataframe\">\n",
       "  <thead>\n",
       "    <tr style=\"text-align: right;\">\n",
       "      <th></th>\n",
       "      <th>geometry</th>\n",
       "      <th>id</th>\n",
       "      <th>types</th>\n",
       "      <th>num_fires</th>\n",
       "      <th>oldest_detection</th>\n",
       "      <th>oldest_acquisition</th>\n",
       "    </tr>\n",
       "  </thead>\n",
       "  <tbody>\n",
       "    <tr>\n",
       "      <th>0</th>\n",
       "      <td>POLYGON ((-103.39699 41.50449, -103.39690 41.5...</td>\n",
       "      <td>19952554</td>\n",
       "      <td>[0]</td>\n",
       "      <td>635</td>\n",
       "      <td>2021-08-06T22:53:25+00:00</td>\n",
       "      <td>2021-08-06T02:55:05+00:00</td>\n",
       "    </tr>\n",
       "    <tr>\n",
       "      <th>1</th>\n",
       "      <td>POLYGON ((-103.38383 41.50191, -103.38270 41.5...</td>\n",
       "      <td>19952554</td>\n",
       "      <td>[0]</td>\n",
       "      <td>635</td>\n",
       "      <td>2021-08-07T18:53:00+00:00</td>\n",
       "      <td>2021-08-06T02:55:05+00:00</td>\n",
       "    </tr>\n",
       "  </tbody>\n",
       "</table>\n",
       "</div>"
      ],
      "text/plain": [
       "                                            geometry        id types  \\\n",
       "0  POLYGON ((-103.39699 41.50449, -103.39690 41.5...  19952554   [0]   \n",
       "1  POLYGON ((-103.38383 41.50191, -103.38270 41.5...  19952554   [0]   \n",
       "\n",
       "   num_fires           oldest_detection         oldest_acquisition  \n",
       "0        635  2021-08-06T22:53:25+00:00  2021-08-06T02:55:05+00:00  \n",
       "1        635  2021-08-07T18:53:00+00:00  2021-08-06T02:55:05+00:00  "
      ]
     },
     "execution_count": 32,
     "metadata": {},
     "output_type": "execute_result"
    }
   ],
   "source": [
    "gdf_current.head(2)"
   ]
  },
  {
   "cell_type": "code",
   "execution_count": 33,
   "id": "288d253b",
   "metadata": {},
   "outputs": [],
   "source": [
    "# field \"types\" contains list for Python. They need to be converted to strings,\n",
    "# otherwise .duplicated() or turning to GeoJSON would not work!\n",
    "gdf_current[\"types\"] = gdf_current[\"types\"].astype('string')\n",
    "# remove [] to avoid confusion when this is read from GeoJSON again\n",
    "gdf_current[\"types\"] = gdf_current[\"types\"].str.removeprefix(\"[\")\n",
    "gdf_current[\"types\"] = gdf_current[\"types\"].str.removesuffix(\"]\")\n"
   ]
  },
  {
   "cell_type": "code",
   "execution_count": 34,
   "id": "bd69ba10",
   "metadata": {},
   "outputs": [
    {
     "data": {
      "text/plain": [
       "0    0\n",
       "1    0\n",
       "Name: types, dtype: string"
      ]
     },
     "execution_count": 34,
     "metadata": {},
     "output_type": "execute_result"
    }
   ],
   "source": [
    "gdf_current[\"types\"].head(2)"
   ]
  },
  {
   "cell_type": "markdown",
   "id": "f20ca562",
   "metadata": {},
   "source": [
    "### Buffer current fires"
   ]
  },
  {
   "cell_type": "markdown",
   "id": "bbb2e259",
   "metadata": {},
   "source": [
    "The API request results get buffered by specified (variable buf_size) amount of statute miles."
   ]
  },
  {
   "cell_type": "code",
   "execution_count": 35,
   "id": "3115366e",
   "metadata": {},
   "outputs": [],
   "source": [
    "#prepare buffer with a metric CRS\n",
    "gdf_current_buffered = gdf_current.copy()\n",
    "gdf_current_buffered = gdf_current_buffered.to_crs(\"EPSG:2163\")\n",
    "\n",
    "#perform buffer by specified amount of statute miles (SM)\n",
    "gdf_current_buffered[\"geometry\"] = gdf_current_buffered.buffer(buf_size, resolution=16)\n",
    "\n",
    "#turn CRS back\n",
    "gdf_current_buffered = gdf_current_buffered.to_crs(\"EPSG:4326\")"
   ]
  },
  {
   "cell_type": "markdown",
   "id": "4e5a1c32",
   "metadata": {},
   "source": [
    "If there is an overlap between TFRs and API request results, then those TFRs can be considered inappropriate from an aerial firefighting perspective."
   ]
  },
  {
   "cell_type": "code",
   "execution_count": 36,
   "id": "a0f0bbdd",
   "metadata": {},
   "outputs": [],
   "source": [
    "gdf_result = gpd.sjoin(gdf_current_buffered, gdf_tfrs, how='inner', predicate='overlaps')"
   ]
  },
  {
   "cell_type": "code",
   "execution_count": 37,
   "id": "e8efb846",
   "metadata": {
    "scrolled": true
   },
   "outputs": [
    {
     "data": {
      "text/html": [
       "<div>\n",
       "<style scoped>\n",
       "    .dataframe tbody tr th:only-of-type {\n",
       "        vertical-align: middle;\n",
       "    }\n",
       "\n",
       "    .dataframe tbody tr th {\n",
       "        vertical-align: top;\n",
       "    }\n",
       "\n",
       "    .dataframe thead th {\n",
       "        text-align: right;\n",
       "    }\n",
       "</style>\n",
       "<table border=\"1\" class=\"dataframe\">\n",
       "  <thead>\n",
       "    <tr style=\"text-align: right;\">\n",
       "      <th></th>\n",
       "      <th>geometry</th>\n",
       "      <th>id</th>\n",
       "      <th>types</th>\n",
       "      <th>num_fires</th>\n",
       "      <th>oldest_detection</th>\n",
       "      <th>oldest_acquisition</th>\n",
       "      <th>index_right</th>\n",
       "      <th>Source</th>\n",
       "      <th>Location</th>\n",
       "      <th>NOTAM #</th>\n",
       "      <th>Issue Date (UTC)</th>\n",
       "      <th>Effective Date (UTC)</th>\n",
       "      <th>Cancel Date (UTC)</th>\n",
       "      <th>Expiration Date (UTC)</th>\n",
       "      <th>NOTAM Condition or LTA Subject</th>\n",
       "      <th>Radius</th>\n",
       "      <th>Radius_m</th>\n",
       "    </tr>\n",
       "  </thead>\n",
       "  <tbody>\n",
       "    <tr>\n",
       "      <th>3</th>\n",
       "      <td>POLYGON ((-107.11377 36.94489, -107.11362 36.9...</td>\n",
       "      <td>20021038</td>\n",
       "      <td>0</td>\n",
       "      <td>939</td>\n",
       "      <td>2021-08-09T23:13:52+00:00</td>\n",
       "      <td>2021-08-07T17:52:20+00:00</td>\n",
       "      <td>10</td>\n",
       "      <td>ZDV_2021-08-08</td>\n",
       "      <td>ZDV</td>\n",
       "      <td>1/3260</td>\n",
       "      <td>08/08/2021 1648</td>\n",
       "      <td>08/08/2021 1700</td>\n",
       "      <td>08/09/2021 0311</td>\n",
       "      <td>08/10/2021 0300</td>\n",
       "      <td>!FDC 1/3260 ZDV NM..AIRSPACE 47NM NE OF BLOOMF...</td>\n",
       "      <td>5.0</td>\n",
       "      <td>9260.0</td>\n",
       "    </tr>\n",
       "    <tr>\n",
       "      <th>3</th>\n",
       "      <td>POLYGON ((-107.11377 36.94489, -107.11362 36.9...</td>\n",
       "      <td>20021038</td>\n",
       "      <td>0</td>\n",
       "      <td>939</td>\n",
       "      <td>2021-08-09T23:13:52+00:00</td>\n",
       "      <td>2021-08-07T17:52:20+00:00</td>\n",
       "      <td>13</td>\n",
       "      <td>ZDV_2021-08-09</td>\n",
       "      <td>ZDV</td>\n",
       "      <td>1/3434</td>\n",
       "      <td>08/09/2021 0312</td>\n",
       "      <td>08/09/2021 1300</td>\n",
       "      <td>08/12/2021 1402</td>\n",
       "      <td>09/09/2021 0300</td>\n",
       "      <td>!FDC 1/3434 ZDV NM..AIRSPACE 47NM NE OF BLOOMF...</td>\n",
       "      <td>5.0</td>\n",
       "      <td>9260.0</td>\n",
       "    </tr>\n",
       "  </tbody>\n",
       "</table>\n",
       "</div>"
      ],
      "text/plain": [
       "                                            geometry        id types  \\\n",
       "3  POLYGON ((-107.11377 36.94489, -107.11362 36.9...  20021038     0   \n",
       "3  POLYGON ((-107.11377 36.94489, -107.11362 36.9...  20021038     0   \n",
       "\n",
       "   num_fires           oldest_detection         oldest_acquisition  \\\n",
       "3        939  2021-08-09T23:13:52+00:00  2021-08-07T17:52:20+00:00   \n",
       "3        939  2021-08-09T23:13:52+00:00  2021-08-07T17:52:20+00:00   \n",
       "\n",
       "   index_right          Source Location NOTAM # Issue Date (UTC)  \\\n",
       "3           10  ZDV_2021-08-08      ZDV  1/3260  08/08/2021 1648   \n",
       "3           13  ZDV_2021-08-09      ZDV  1/3434  08/09/2021 0312   \n",
       "\n",
       "  Effective Date (UTC) Cancel Date (UTC) Expiration Date (UTC)  \\\n",
       "3      08/08/2021 1700   08/09/2021 0311       08/10/2021 0300   \n",
       "3      08/09/2021 1300   08/12/2021 1402       09/09/2021 0300   \n",
       "\n",
       "                      NOTAM Condition or LTA Subject  Radius  Radius_m  \n",
       "3  !FDC 1/3260 ZDV NM..AIRSPACE 47NM NE OF BLOOMF...     5.0    9260.0  \n",
       "3  !FDC 1/3434 ZDV NM..AIRSPACE 47NM NE OF BLOOMF...     5.0    9260.0  "
      ]
     },
     "execution_count": 37,
     "metadata": {},
     "output_type": "execute_result"
    }
   ],
   "source": [
    "gdf_result.head(2)"
   ]
  },
  {
   "cell_type": "markdown",
   "id": "36116651",
   "metadata": {},
   "source": [
    "A TFR is also inappropriate, if it is entirely inside a fire, so the according check from above is reused"
   ]
  },
  {
   "cell_type": "code",
   "execution_count": 38,
   "id": "bdf7d5d5",
   "metadata": {},
   "outputs": [],
   "source": [
    "#check for buffered fire already covering entire TFR\n",
    "gdf_currentcovering_bybuff = gpd.sjoin(gdf_current_buffered, gdf_tfrs, how='inner', predicate='contains')"
   ]
  },
  {
   "cell_type": "code",
   "execution_count": 39,
   "id": "46ebf145",
   "metadata": {},
   "outputs": [
    {
     "data": {
      "text/html": [
       "<div>\n",
       "<style scoped>\n",
       "    .dataframe tbody tr th:only-of-type {\n",
       "        vertical-align: middle;\n",
       "    }\n",
       "\n",
       "    .dataframe tbody tr th {\n",
       "        vertical-align: top;\n",
       "    }\n",
       "\n",
       "    .dataframe thead th {\n",
       "        text-align: right;\n",
       "    }\n",
       "</style>\n",
       "<table border=\"1\" class=\"dataframe\">\n",
       "  <thead>\n",
       "    <tr style=\"text-align: right;\">\n",
       "      <th></th>\n",
       "      <th>geometry</th>\n",
       "      <th>id</th>\n",
       "      <th>types</th>\n",
       "      <th>num_fires</th>\n",
       "      <th>oldest_detection</th>\n",
       "      <th>oldest_acquisition</th>\n",
       "      <th>index_right</th>\n",
       "      <th>Source</th>\n",
       "      <th>Location</th>\n",
       "      <th>NOTAM #</th>\n",
       "      <th>Issue Date (UTC)</th>\n",
       "      <th>Effective Date (UTC)</th>\n",
       "      <th>Cancel Date (UTC)</th>\n",
       "      <th>Expiration Date (UTC)</th>\n",
       "      <th>NOTAM Condition or LTA Subject</th>\n",
       "      <th>Radius</th>\n",
       "      <th>Radius_m</th>\n",
       "    </tr>\n",
       "  </thead>\n",
       "  <tbody>\n",
       "    <tr>\n",
       "      <th>6</th>\n",
       "      <td>POLYGON ((-106.32305 40.16465, -106.32301 40.1...</td>\n",
       "      <td>20866464</td>\n",
       "      <td>0</td>\n",
       "      <td>587</td>\n",
       "      <td>2021-08-30T18:51:21+00:00</td>\n",
       "      <td>2021-08-29T19:31:23+00:00</td>\n",
       "      <td>18</td>\n",
       "      <td>ZDV_2021-08-30</td>\n",
       "      <td>ZDV</td>\n",
       "      <td>1/8134</td>\n",
       "      <td>08/30/2021 0201</td>\n",
       "      <td>08/30/2021 1400</td>\n",
       "      <td>09/07/2021 1405</td>\n",
       "      <td>10/29/2021 0200</td>\n",
       "      <td>!FDC 1/8134 ZDV CO..AIRSPACE 8NM NE OF KREMLIN...</td>\n",
       "      <td>3.0</td>\n",
       "      <td>5556.0</td>\n",
       "    </tr>\n",
       "  </tbody>\n",
       "</table>\n",
       "</div>"
      ],
      "text/plain": [
       "                                            geometry        id types  \\\n",
       "6  POLYGON ((-106.32305 40.16465, -106.32301 40.1...  20866464     0   \n",
       "\n",
       "   num_fires           oldest_detection         oldest_acquisition  \\\n",
       "6        587  2021-08-30T18:51:21+00:00  2021-08-29T19:31:23+00:00   \n",
       "\n",
       "   index_right          Source Location NOTAM # Issue Date (UTC)  \\\n",
       "6           18  ZDV_2021-08-30      ZDV  1/8134  08/30/2021 0201   \n",
       "\n",
       "  Effective Date (UTC) Cancel Date (UTC) Expiration Date (UTC)  \\\n",
       "6      08/30/2021 1400   09/07/2021 1405       10/29/2021 0200   \n",
       "\n",
       "                      NOTAM Condition or LTA Subject  Radius  Radius_m  \n",
       "6  !FDC 1/8134 ZDV CO..AIRSPACE 8NM NE OF KREMLIN...     3.0    5556.0  "
      ]
     },
     "execution_count": 39,
     "metadata": {},
     "output_type": "execute_result"
    }
   ],
   "source": [
    "gdf_currentcovering_bybuff.head(2)"
   ]
  },
  {
   "cell_type": "code",
   "execution_count": 40,
   "id": "1ee4ae10",
   "metadata": {},
   "outputs": [],
   "source": [
    "#concatenate dataframes if buffered fires contain an entire TFR\n",
    "if len(gdf_currentcovering_bybuff.index)>0:\n",
    "    frames = [gdf_result, gdf_currentcovering_bybuff]\n",
    "    gdf_result = gpd.GeoDataFrame(pd.concat(frames, sort=False))"
   ]
  },
  {
   "cell_type": "code",
   "execution_count": 41,
   "id": "349e0945",
   "metadata": {},
   "outputs": [
    {
     "name": "stdout",
     "output_type": "stream",
     "text": [
      "5\n"
     ]
    }
   ],
   "source": [
    "print(len(gdf_result.index))"
   ]
  },
  {
   "cell_type": "markdown",
   "id": "71143bab",
   "metadata": {},
   "source": [
    "Number of results: ZDV (3 SM): 11, ZDV (1 SM): 1"
   ]
  },
  {
   "cell_type": "code",
   "execution_count": 42,
   "id": "34825dd9",
   "metadata": {},
   "outputs": [],
   "source": [
    "# Appending to logfile\n",
    "with open(logfilename, 'a') as logfile:\n",
    "    logfile.write('Number results for '+tfr+' '+str_buf_size+' SM: '+str(len(gdf_result.index))+'\\n' )"
   ]
  },
  {
   "cell_type": "markdown",
   "id": "2f25227c",
   "metadata": {},
   "source": [
    "ATTENTION: As joined once again with all TFRs in gdf_tfrs, those TFR cancelled before being effective will be included here! So get_minutes function is applied once more to recognize those. The Number of occurrences gets printed below. To obtain the true count (without duplicates), this must be applied on the input geodataframe gdf_tfrs"
   ]
  },
  {
   "cell_type": "code",
   "execution_count": 43,
   "id": "970454be",
   "metadata": {},
   "outputs": [],
   "source": [
    "#apply function get_minutes from above again\n",
    "gdf_tfrs[\"Duration_Minutes\"]=gdf_tfrs.apply(get_minutes,axis=1)"
   ]
  },
  {
   "cell_type": "code",
   "execution_count": 44,
   "id": "6141e153",
   "metadata": {},
   "outputs": [
    {
     "name": "stdout",
     "output_type": "stream",
     "text": [
      "1\n"
     ]
    }
   ],
   "source": [
    "print(len(gdf_tfrs[gdf_tfrs[\"Duration_Minutes\"]<=0].index))"
   ]
  },
  {
   "cell_type": "markdown",
   "id": "ee081cc2",
   "metadata": {},
   "source": [
    "Number of TFR(s) cancelled before becoming effective:\n",
    "ZDV (3 SM): 1\n",
    "ZDV (1 SM): 0"
   ]
  },
  {
   "cell_type": "code",
   "execution_count": 45,
   "id": "f5080eb5",
   "metadata": {},
   "outputs": [],
   "source": [
    "# Appending to logfile\n",
    "with open(logfilename, 'a') as logfile:\n",
    "    logfile.write('Number of TFR(s) cancelled before becoming effective for '+tfr+' '+str_buf_size+' SM: '+str(len(gdf_tfrs[gdf_tfrs[\"Duration_Minutes\"]<=0].index))+'\\n' )"
   ]
  },
  {
   "cell_type": "code",
   "execution_count": 46,
   "id": "8dd01bc1",
   "metadata": {
    "scrolled": true
   },
   "outputs": [
    {
     "data": {
      "text/html": [
       "<div>\n",
       "<style scoped>\n",
       "    .dataframe tbody tr th:only-of-type {\n",
       "        vertical-align: middle;\n",
       "    }\n",
       "\n",
       "    .dataframe tbody tr th {\n",
       "        vertical-align: top;\n",
       "    }\n",
       "\n",
       "    .dataframe thead th {\n",
       "        text-align: right;\n",
       "    }\n",
       "</style>\n",
       "<table border=\"1\" class=\"dataframe\">\n",
       "  <thead>\n",
       "    <tr style=\"text-align: right;\">\n",
       "      <th></th>\n",
       "      <th>geometry</th>\n",
       "      <th>id</th>\n",
       "      <th>types</th>\n",
       "      <th>num_fires</th>\n",
       "      <th>oldest_detection</th>\n",
       "      <th>oldest_acquisition</th>\n",
       "      <th>index_right</th>\n",
       "      <th>Source</th>\n",
       "      <th>Location</th>\n",
       "      <th>NOTAM #</th>\n",
       "      <th>Issue Date (UTC)</th>\n",
       "      <th>Effective Date (UTC)</th>\n",
       "      <th>Cancel Date (UTC)</th>\n",
       "      <th>Expiration Date (UTC)</th>\n",
       "      <th>NOTAM Condition or LTA Subject</th>\n",
       "      <th>Radius</th>\n",
       "      <th>Radius_m</th>\n",
       "    </tr>\n",
       "  </thead>\n",
       "  <tbody>\n",
       "    <tr>\n",
       "      <th>3</th>\n",
       "      <td>POLYGON ((-107.11377 36.94489, -107.11362 36.9...</td>\n",
       "      <td>20021038</td>\n",
       "      <td>0</td>\n",
       "      <td>939</td>\n",
       "      <td>2021-08-09T23:13:52+00:00</td>\n",
       "      <td>2021-08-07T17:52:20+00:00</td>\n",
       "      <td>10</td>\n",
       "      <td>ZDV_2021-08-08</td>\n",
       "      <td>ZDV</td>\n",
       "      <td>1/3260</td>\n",
       "      <td>08/08/2021 1648</td>\n",
       "      <td>08/08/2021 1700</td>\n",
       "      <td>08/09/2021 0311</td>\n",
       "      <td>08/10/2021 0300</td>\n",
       "      <td>!FDC 1/3260 ZDV NM..AIRSPACE 47NM NE OF BLOOMF...</td>\n",
       "      <td>5.0</td>\n",
       "      <td>9260.0</td>\n",
       "    </tr>\n",
       "    <tr>\n",
       "      <th>3</th>\n",
       "      <td>POLYGON ((-107.11377 36.94489, -107.11362 36.9...</td>\n",
       "      <td>20021038</td>\n",
       "      <td>0</td>\n",
       "      <td>939</td>\n",
       "      <td>2021-08-09T23:13:52+00:00</td>\n",
       "      <td>2021-08-07T17:52:20+00:00</td>\n",
       "      <td>13</td>\n",
       "      <td>ZDV_2021-08-09</td>\n",
       "      <td>ZDV</td>\n",
       "      <td>1/3434</td>\n",
       "      <td>08/09/2021 0312</td>\n",
       "      <td>08/09/2021 1300</td>\n",
       "      <td>08/12/2021 1402</td>\n",
       "      <td>09/09/2021 0300</td>\n",
       "      <td>!FDC 1/3434 ZDV NM..AIRSPACE 47NM NE OF BLOOMF...</td>\n",
       "      <td>5.0</td>\n",
       "      <td>9260.0</td>\n",
       "    </tr>\n",
       "  </tbody>\n",
       "</table>\n",
       "</div>"
      ],
      "text/plain": [
       "                                            geometry        id types  \\\n",
       "3  POLYGON ((-107.11377 36.94489, -107.11362 36.9...  20021038     0   \n",
       "3  POLYGON ((-107.11377 36.94489, -107.11362 36.9...  20021038     0   \n",
       "\n",
       "   num_fires           oldest_detection         oldest_acquisition  \\\n",
       "3        939  2021-08-09T23:13:52+00:00  2021-08-07T17:52:20+00:00   \n",
       "3        939  2021-08-09T23:13:52+00:00  2021-08-07T17:52:20+00:00   \n",
       "\n",
       "   index_right          Source Location NOTAM # Issue Date (UTC)  \\\n",
       "3           10  ZDV_2021-08-08      ZDV  1/3260  08/08/2021 1648   \n",
       "3           13  ZDV_2021-08-09      ZDV  1/3434  08/09/2021 0312   \n",
       "\n",
       "  Effective Date (UTC) Cancel Date (UTC) Expiration Date (UTC)  \\\n",
       "3      08/08/2021 1700   08/09/2021 0311       08/10/2021 0300   \n",
       "3      08/09/2021 1300   08/12/2021 1402       09/09/2021 0300   \n",
       "\n",
       "                      NOTAM Condition or LTA Subject  Radius  Radius_m  \n",
       "3  !FDC 1/3260 ZDV NM..AIRSPACE 47NM NE OF BLOOMF...     5.0    9260.0  \n",
       "3  !FDC 1/3434 ZDV NM..AIRSPACE 47NM NE OF BLOOMF...     5.0    9260.0  "
      ]
     },
     "execution_count": 46,
     "metadata": {},
     "output_type": "execute_result"
    }
   ],
   "source": [
    "gdf_result.head(2)"
   ]
  },
  {
   "cell_type": "markdown",
   "id": "9f46e181",
   "metadata": {},
   "source": [
    "Result may contain duplicates, due to multi join and fires overlapping TFRs more than one time. Resulting log gets a count of entirely duplicate rows, the 'Number of TFRs where a fire leaves the TFR' and the 'Number of fire events leaving a TFR'"
   ]
  },
  {
   "cell_type": "code",
   "execution_count": 47,
   "id": "634307bb",
   "metadata": {
    "scrolled": true
   },
   "outputs": [
    {
     "data": {
      "text/plain": [
       "0"
      ]
     },
     "execution_count": 47,
     "metadata": {},
     "output_type": "execute_result"
    }
   ],
   "source": [
    "#count duplicates\n",
    "gdf_result.duplicated().sum()"
   ]
  },
  {
   "cell_type": "code",
   "execution_count": 48,
   "id": "2fa4fb48",
   "metadata": {},
   "outputs": [
    {
     "data": {
      "text/plain": [
       "5"
      ]
     },
     "execution_count": 48,
     "metadata": {},
     "output_type": "execute_result"
    }
   ],
   "source": [
    "#count non-duplicates\n",
    "(~gdf_result.duplicated()).sum()"
   ]
  },
  {
   "cell_type": "code",
   "execution_count": 49,
   "id": "9e1b9146",
   "metadata": {},
   "outputs": [],
   "source": [
    "# Appending to logfile\n",
    "with open(logfilename, 'a') as logfile:\n",
    "    logfile.write('Number of results without duplicates for '+tfr+' '+str_buf_size+' SM: '+str((~gdf_result.duplicated()).sum())+'\\n' )"
   ]
  },
  {
   "cell_type": "code",
   "execution_count": 50,
   "id": "c4ffeb41",
   "metadata": {},
   "outputs": [
    {
     "data": {
      "text/plain": [
       "5"
      ]
     },
     "execution_count": 50,
     "metadata": {},
     "output_type": "execute_result"
    }
   ],
   "source": [
    "# count non-duplicates of TFRs\n",
    "(~gdf_result.duplicated([\"NOTAM #\"])).sum()"
   ]
  },
  {
   "cell_type": "code",
   "execution_count": 51,
   "id": "80a8a196",
   "metadata": {},
   "outputs": [],
   "source": [
    "# Appending to logfile\n",
    "with open(logfilename, 'a') as logfile:\n",
    "    logfile.write('Number of TFRs where a fire leaves the TFR for '+tfr+' '+str_buf_size+' SM: '+str((~gdf_result.duplicated([\"NOTAM #\"])).sum())+'\\n' )"
   ]
  },
  {
   "cell_type": "code",
   "execution_count": 52,
   "id": "17702233",
   "metadata": {},
   "outputs": [
    {
     "data": {
      "text/plain": [
       "3"
      ]
     },
     "execution_count": 52,
     "metadata": {},
     "output_type": "execute_result"
    }
   ],
   "source": [
    "# count non-duplicates of fires\n",
    "(~gdf_result.duplicated([\"id\"])).sum()"
   ]
  },
  {
   "cell_type": "code",
   "execution_count": 53,
   "id": "52513154",
   "metadata": {},
   "outputs": [],
   "source": [
    "# Appending to logfile\n",
    "with open(logfilename, 'a') as logfile:\n",
    "    logfile.write('Number of fire events leaving a TFR for '+tfr+' '+str_buf_size+' SM: '+str((~gdf_result.duplicated([\"id\"])).sum())+'\\n'+'\\n' )"
   ]
  },
  {
   "cell_type": "code",
   "execution_count": 54,
   "id": "047098ec",
   "metadata": {},
   "outputs": [],
   "source": [
    "# Considering certain columns for dropping duplicates, if wanted\n",
    "#gdf_result.drop_duplicates(subset=['id', 'NOTAM #'])\n",
    "\n",
    "# Drop entire row duplicates, if wanted\n",
    "#gdf_result.drop_duplicates()"
   ]
  },
  {
   "cell_type": "markdown",
   "id": "6c122cf7",
   "metadata": {},
   "source": [
    "Finally, compose an output file for those fires that had inappropriate TFRs, IF any"
   ]
  },
  {
   "cell_type": "code",
   "execution_count": 55,
   "id": "79e03fc8",
   "metadata": {
    "scrolled": false
   },
   "outputs": [
    {
     "name": "stderr",
     "output_type": "stream",
     "text": [
      "D:\\anaconda3\\envs\\master_env\\lib\\site-packages\\geopandas\\io\\file.py:362: FutureWarning: pandas.Int64Index is deprecated and will be removed from pandas in a future version. Use pandas.Index with the appropriate dtype instead.\n",
      "  pd.Int64Index,\n"
     ]
    }
   ],
   "source": [
    "# GeoJSON output\n",
    "if len(gdf_result.index)>0:\n",
    "    gdf_result.to_file(filename= outfile, driver='GeoJSON')"
   ]
  },
  {
   "cell_type": "markdown",
   "id": "7090a9da",
   "metadata": {},
   "source": [
    "This Notebook ends here. Follow up analysis is performed Get_Events_from_Fires_from_API to avoid rerunning API requests when this is not necessary."
   ]
  }
 ],
 "metadata": {
  "kernelspec": {
   "display_name": "Python 3 (ipykernel)",
   "language": "python",
   "name": "python3"
  },
  "language_info": {
   "codemirror_mode": {
    "name": "ipython",
    "version": 3
   },
   "file_extension": ".py",
   "mimetype": "text/x-python",
   "name": "python",
   "nbconvert_exporter": "python",
   "pygments_lexer": "ipython3",
   "version": "3.10.4"
  }
 },
 "nbformat": 4,
 "nbformat_minor": 5
}
