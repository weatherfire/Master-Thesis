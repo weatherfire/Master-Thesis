{
 "cells": [
  {
   "cell_type": "markdown",
   "id": "4877da4e",
   "metadata": {},
   "source": [
    "# A script to compare TFRs to fireclusters at different confidence"
   ]
  },
  {
   "cell_type": "code",
   "execution_count": 1,
   "id": "e1897086",
   "metadata": {},
   "outputs": [],
   "source": [
    "import geopandas as gpd\n",
    "import pandas as pd"
   ]
  },
  {
   "cell_type": "code",
   "execution_count": 2,
   "id": "06a0cc08",
   "metadata": {},
   "outputs": [],
   "source": [
    "#create geodataframe with files from script´s directory\n",
    "\n",
    "\n",
    "#paths and filenames\n",
    "fire_path = r\"D:\\UNIGIS\\MASTER\\DownloadedData\\WFS\\\\\"\n",
    "tfr_path=r\"D:\\UNIGIS\\MASTER\\Scripts\\\\\"\n",
    "\n",
    "fire_file = \"wfs-area-export_FIRs_Boundary_08-102021_con_pt5.geojson\"\n",
    "# a second GeoJSON containing all fireclusters, also of low confidence, is needed\n",
    "fire_file_low_conf = \"wfs-area-export_2021-08-01-2021-10-31_FIRs_Boundary_08-102021.geojson\"\n",
    "\n",
    "tfr_file = \"All_TFRs.geojson\"\n",
    "\n",
    "#read geojson files\n",
    "gdf_fires_low = gpd.read_file(fire_path + fire_file_low_conf)\n",
    "\n",
    "gdf_All_TFRs = gpd.read_file(tfr_path + tfr_file)\n",
    "gdf_fires = gpd.read_file(fire_path + fire_file)\n",
    "\n",
    "#output filename (if any):\n",
    "outfile = 'TFRs_without_fires.geojson'"
   ]
  },
  {
   "cell_type": "code",
   "execution_count": 3,
   "id": "99ae91a4",
   "metadata": {
    "scrolled": true
   },
   "outputs": [],
   "source": [
    "# left join with predicate intersect\n",
    "gdf_TFR_nofire = gpd.sjoin(gdf_All_TFRs, gdf_fires, how='left', predicate='intersects')"
   ]
  },
  {
   "cell_type": "code",
   "execution_count": 4,
   "id": "cd4a955f",
   "metadata": {},
   "outputs": [],
   "source": [
    "# change the global options that Geopandas inherits from if more shall be displayed\n",
    "#pd.set_option('display.max_columns',None)\n",
    "#pd.set_option('display.max_rows',None)"
   ]
  },
  {
   "cell_type": "code",
   "execution_count": 5,
   "id": "e631c4ea",
   "metadata": {},
   "outputs": [],
   "source": [
    "gdf_TFR_nofire = gdf_TFR_nofire[gdf_TFR_nofire[\"id\"].isnull()]"
   ]
  },
  {
   "cell_type": "code",
   "execution_count": 6,
   "id": "6f050a17",
   "metadata": {},
   "outputs": [
    {
     "name": "stdout",
     "output_type": "stream",
     "text": [
      "56\n"
     ]
    }
   ],
   "source": [
    "print(len(gdf_TFR_nofire.index))"
   ]
  },
  {
   "cell_type": "code",
   "execution_count": 7,
   "id": "f0cd7995",
   "metadata": {},
   "outputs": [],
   "source": [
    "#gdf_TFR_nofire"
   ]
  },
  {
   "cell_type": "markdown",
   "id": "d78d923a",
   "metadata": {},
   "source": [
    "Sort out eventually erroneous TFRs, cancelled before becoming effective, maybe because they were issued in the wrong place"
   ]
  },
  {
   "cell_type": "code",
   "execution_count": 8,
   "id": "752c944a",
   "metadata": {},
   "outputs": [],
   "source": [
    "gdf_TFR_nofire_err = gdf_TFR_nofire[ pd.to_datetime(gdf_TFR_nofire[\"Cancel_Date__UTC_\"]) < pd.to_datetime(gdf_TFR_nofire[\"Effective_Date__UTC_\"]) ]"
   ]
  },
  {
   "cell_type": "code",
   "execution_count": 9,
   "id": "12ca1e04",
   "metadata": {},
   "outputs": [
    {
     "name": "stdout",
     "output_type": "stream",
     "text": [
      "0\n"
     ]
    }
   ],
   "source": [
    "print(len(gdf_TFR_nofire_err.index))"
   ]
  },
  {
   "cell_type": "markdown",
   "id": "3e73cc8d",
   "metadata": {},
   "source": [
    "Sort out TFRs issued before fire cluster timeframe (starting 08/01/2021 0000). Their comparison may suffer from a boundary value problem"
   ]
  },
  {
   "cell_type": "code",
   "execution_count": 10,
   "id": "c9be3f6b",
   "metadata": {},
   "outputs": [],
   "source": [
    "gdf_TFR_nofire_old = gdf_TFR_nofire[ pd.to_datetime(gdf_TFR_nofire[\"Issue_Date__UTC_\"]) < pd.to_datetime('08/01/2021 0000') ]"
   ]
  },
  {
   "cell_type": "code",
   "execution_count": 11,
   "id": "1e477a4a",
   "metadata": {
    "scrolled": true
   },
   "outputs": [
    {
     "name": "stdout",
     "output_type": "stream",
     "text": [
      "17\n"
     ]
    }
   ],
   "source": [
    "print(len(gdf_TFR_nofire_old.index))"
   ]
  },
  {
   "cell_type": "code",
   "execution_count": 12,
   "id": "bd5f8b6f",
   "metadata": {},
   "outputs": [],
   "source": [
    "gdf_TFR_nofire = gdf_TFR_nofire[ pd.to_datetime(gdf_TFR_nofire[\"Issue_Date__UTC_\"]) >= pd.to_datetime('08/01/2021 0000') ]"
   ]
  },
  {
   "cell_type": "markdown",
   "id": "d4644a30",
   "metadata": {},
   "source": [
    "The remaining TFRs are now joined on fire clusters with a lower confidence"
   ]
  },
  {
   "cell_type": "code",
   "execution_count": 13,
   "id": "cb06a45b",
   "metadata": {},
   "outputs": [],
   "source": [
    "#If it is ever needed to join a join result again, index/ other needed columns need to get renamend\n",
    "gdf_TFR_nofire.rename(columns = {'index_right':'old_index_right'}, inplace = True)\n",
    "gdf_TFR_nofire.rename(columns = {'id':'old_id'}, inplace = True)\n",
    "# left join with predicate intersect\n",
    "gdf_TFR_nofire_low = gpd.sjoin(gdf_TFR_nofire, gdf_fires_low, how='left', predicate='intersects')"
   ]
  },
  {
   "cell_type": "code",
   "execution_count": 14,
   "id": "deb0ae4c",
   "metadata": {},
   "outputs": [],
   "source": [
    "#gdf_TFR_nofire_low"
   ]
  },
  {
   "cell_type": "code",
   "execution_count": 15,
   "id": "e872a9a3",
   "metadata": {
    "scrolled": true
   },
   "outputs": [],
   "source": [
    "gdf_TFR_nofire_low = gdf_TFR_nofire_low[gdf_TFR_nofire_low[\"id\"].isnull()]"
   ]
  },
  {
   "cell_type": "code",
   "execution_count": 16,
   "id": "4acd139a",
   "metadata": {},
   "outputs": [
    {
     "name": "stdout",
     "output_type": "stream",
     "text": [
      "3\n"
     ]
    }
   ],
   "source": [
    "print(len(gdf_TFR_nofire_low.index))"
   ]
  },
  {
   "cell_type": "code",
   "execution_count": 17,
   "id": "41dffe13",
   "metadata": {},
   "outputs": [
    {
     "data": {
      "text/html": [
       "<div>\n",
       "<style scoped>\n",
       "    .dataframe tbody tr th:only-of-type {\n",
       "        vertical-align: middle;\n",
       "    }\n",
       "\n",
       "    .dataframe tbody tr th {\n",
       "        vertical-align: top;\n",
       "    }\n",
       "\n",
       "    .dataframe thead th {\n",
       "        text-align: right;\n",
       "    }\n",
       "</style>\n",
       "<table border=\"1\" class=\"dataframe\">\n",
       "  <thead>\n",
       "    <tr style=\"text-align: right;\">\n",
       "      <th></th>\n",
       "      <th>OBJECTID</th>\n",
       "      <th>Source</th>\n",
       "      <th>Location</th>\n",
       "      <th>NOTAM__</th>\n",
       "      <th>Issue_Date__UTC_</th>\n",
       "      <th>Effective_Date__UTC_</th>\n",
       "      <th>Cancel_Date__UTC_</th>\n",
       "      <th>Expiration_Date__UTC_</th>\n",
       "      <th>NOTAM_Condition_or_LTA_Subject</th>\n",
       "      <th>Radius</th>\n",
       "      <th>...</th>\n",
       "      <th>index_right</th>\n",
       "      <th>id</th>\n",
       "      <th>age_right</th>\n",
       "      <th>area_right</th>\n",
       "      <th>num_fires_right</th>\n",
       "      <th>confidence_right</th>\n",
       "      <th>newest_detection_right</th>\n",
       "      <th>oldest_detection_right</th>\n",
       "      <th>newest_acquisition_right</th>\n",
       "      <th>oldest_acquisition_right</th>\n",
       "    </tr>\n",
       "  </thead>\n",
       "  <tbody>\n",
       "    <tr>\n",
       "      <th>23</th>\n",
       "      <td>24</td>\n",
       "      <td>ZSE_2021-08-01</td>\n",
       "      <td>ZSE</td>\n",
       "      <td>1/9095</td>\n",
       "      <td>08/01/2021 1555</td>\n",
       "      <td>08/01/2021 1615</td>\n",
       "      <td>08/01/2021 2337</td>\n",
       "      <td>10/01/2021 0500</td>\n",
       "      <td>!FDC 1/9095 ZSE OR..AIRSPACE 22NM S MEDFORD, O...</td>\n",
       "      <td>3</td>\n",
       "      <td>...</td>\n",
       "      <td>NaN</td>\n",
       "      <td>NaN</td>\n",
       "      <td>NaN</td>\n",
       "      <td>NaN</td>\n",
       "      <td>NaN</td>\n",
       "      <td>NaN</td>\n",
       "      <td>NaN</td>\n",
       "      <td>NaN</td>\n",
       "      <td>NaN</td>\n",
       "      <td>NaN</td>\n",
       "    </tr>\n",
       "    <tr>\n",
       "      <th>540</th>\n",
       "      <td>541</td>\n",
       "      <td>ZAB_2021-10-20</td>\n",
       "      <td>ZAB</td>\n",
       "      <td>1/5987</td>\n",
       "      <td>10/20/2021 2254</td>\n",
       "      <td>10/20/2021 2245</td>\n",
       "      <td>10/21/2021 0229</td>\n",
       "      <td>10/22/2021 0230</td>\n",
       "      <td>!FDC 1/5987 ZAB AZ..AIRSPACE 23NM SE OF TUCSON...</td>\n",
       "      <td>3</td>\n",
       "      <td>...</td>\n",
       "      <td>NaN</td>\n",
       "      <td>NaN</td>\n",
       "      <td>NaN</td>\n",
       "      <td>NaN</td>\n",
       "      <td>NaN</td>\n",
       "      <td>NaN</td>\n",
       "      <td>NaN</td>\n",
       "      <td>NaN</td>\n",
       "      <td>NaN</td>\n",
       "      <td>NaN</td>\n",
       "    </tr>\n",
       "    <tr>\n",
       "      <th>541</th>\n",
       "      <td>542</td>\n",
       "      <td>ZAB_2021-10-21</td>\n",
       "      <td>ZAB</td>\n",
       "      <td>1/6009</td>\n",
       "      <td>10/21/2021 0034</td>\n",
       "      <td>10/21/2021 1400</td>\n",
       "      <td>10/22/2021 2316</td>\n",
       "      <td>11/21/2021 0300</td>\n",
       "      <td>!FDC 1/6009 ZAB AZ..AIRSPACE 23NM SE OF TUCSON...</td>\n",
       "      <td>3</td>\n",
       "      <td>...</td>\n",
       "      <td>NaN</td>\n",
       "      <td>NaN</td>\n",
       "      <td>NaN</td>\n",
       "      <td>NaN</td>\n",
       "      <td>NaN</td>\n",
       "      <td>NaN</td>\n",
       "      <td>NaN</td>\n",
       "      <td>NaN</td>\n",
       "      <td>NaN</td>\n",
       "      <td>NaN</td>\n",
       "    </tr>\n",
       "  </tbody>\n",
       "</table>\n",
       "<p>3 rows × 35 columns</p>\n",
       "</div>"
      ],
      "text/plain": [
       "     OBJECTID          Source Location NOTAM__ Issue_Date__UTC_  \\\n",
       "23         24  ZSE_2021-08-01      ZSE  1/9095  08/01/2021 1555   \n",
       "540       541  ZAB_2021-10-20      ZAB  1/5987  10/20/2021 2254   \n",
       "541       542  ZAB_2021-10-21      ZAB  1/6009  10/21/2021 0034   \n",
       "\n",
       "    Effective_Date__UTC_ Cancel_Date__UTC_ Expiration_Date__UTC_  \\\n",
       "23       08/01/2021 1615   08/01/2021 2337       10/01/2021 0500   \n",
       "540      10/20/2021 2245   10/21/2021 0229       10/22/2021 0230   \n",
       "541      10/21/2021 1400   10/22/2021 2316       11/21/2021 0300   \n",
       "\n",
       "                        NOTAM_Condition_or_LTA_Subject  Radius  ...  \\\n",
       "23   !FDC 1/9095 ZSE OR..AIRSPACE 22NM S MEDFORD, O...       3  ...   \n",
       "540  !FDC 1/5987 ZAB AZ..AIRSPACE 23NM SE OF TUCSON...       3  ...   \n",
       "541  !FDC 1/6009 ZAB AZ..AIRSPACE 23NM SE OF TUCSON...       3  ...   \n",
       "\n",
       "     index_right  id  age_right area_right  num_fires_right  confidence_right  \\\n",
       "23           NaN NaN        NaN        NaN              NaN               NaN   \n",
       "540          NaN NaN        NaN        NaN              NaN               NaN   \n",
       "541          NaN NaN        NaN        NaN              NaN               NaN   \n",
       "\n",
       "     newest_detection_right  oldest_detection_right newest_acquisition_right  \\\n",
       "23                      NaN                     NaN                      NaN   \n",
       "540                     NaN                     NaN                      NaN   \n",
       "541                     NaN                     NaN                      NaN   \n",
       "\n",
       "     oldest_acquisition_right  \n",
       "23                        NaN  \n",
       "540                       NaN  \n",
       "541                       NaN  \n",
       "\n",
       "[3 rows x 35 columns]"
      ]
     },
     "execution_count": 17,
     "metadata": {},
     "output_type": "execute_result"
    }
   ],
   "source": [
    "gdf_TFR_nofire_low"
   ]
  },
  {
   "cell_type": "code",
   "execution_count": 18,
   "id": "dd0ac54f",
   "metadata": {},
   "outputs": [
    {
     "name": "stderr",
     "output_type": "stream",
     "text": [
      "D:\\anaconda3\\envs\\master_env\\lib\\site-packages\\geopandas\\io\\file.py:362: FutureWarning: pandas.Int64Index is deprecated and will be removed from pandas in a future version. Use pandas.Index with the appropriate dtype instead.\n",
      "  pd.Int64Index,\n"
     ]
    }
   ],
   "source": [
    "# GeoJSON output\n",
    "if len(gdf_TFR_nofire_low.index)>0:\n",
    "    gdf_TFR_nofire_low.to_file(filename= outfile, driver='GeoJSON')"
   ]
  }
 ],
 "metadata": {
  "kernelspec": {
   "display_name": "Python 3 (ipykernel)",
   "language": "python",
   "name": "python3"
  },
  "language_info": {
   "codemirror_mode": {
    "name": "ipython",
    "version": 3
   },
   "file_extension": ".py",
   "mimetype": "text/x-python",
   "name": "python",
   "nbconvert_exporter": "python",
   "pygments_lexer": "ipython3",
   "version": "3.10.4"
  }
 },
 "nbformat": 4,
 "nbformat_minor": 5
}
