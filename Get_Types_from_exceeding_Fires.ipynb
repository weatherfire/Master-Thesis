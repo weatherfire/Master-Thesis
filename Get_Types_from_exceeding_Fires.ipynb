{
 "cells": [
  {
   "cell_type": "markdown",
   "id": "5df6ca5c",
   "metadata": {},
   "source": [
    "# A Script to check types of TFR-exceeding fire clusters for artificial sources"
   ]
  },
  {
   "cell_type": "code",
   "execution_count": 1,
   "id": "fd6f3d43",
   "metadata": {},
   "outputs": [],
   "source": [
    "import geopandas as gpd\n",
    "import pandas as pd"
   ]
  },
  {
   "cell_type": "code",
   "execution_count": 2,
   "id": "8a34381c",
   "metadata": {},
   "outputs": [],
   "source": [
    "##specify file location and name\n",
    "#3 letter location indicator, reused within all created files\n",
    "#possible values: ZDV ZFW ZLA ZLC ZMP ZOA ZSE; not ZKC and ZHU having no wildfire TFRs, ZAB has no overlapping fires\n",
    "tfr =r\"ZDV\"\n",
    "#paths and filenames\n",
    "in_path=r\"D:\\UNIGIS\\MASTER\\Scripts\\Exceeding\\\\\"\n",
    "\n",
    "out_path=in_path\n",
    "\n",
    "#size used by prior script to buffer fires in m; 1609.344  m = 1 SM, 4828.032 m = 3 SM\n",
    "buf_size = 4828.032\n",
    "\n",
    "#output concatenates from these strings as well. Buffer size must be a string for that as well\n",
    "str_buf_size = str(int(buf_size/1609.344))\n",
    "\n",
    "#input filename\n",
    "infile = in_path+tfr+'_'+str_buf_size+'SM_result-fires.geojson'\n",
    "infile_bytfr = in_path+tfr+'_'+str_buf_size+'SM_result-TFRs.geojson'\n",
    "\n",
    "#read geojson files\n",
    "gdf_in = gpd.read_file(infile)\n",
    "gdf_in_bytfr = gpd.read_file(infile_bytfr)\n",
    "\n",
    "#output\n",
    "#none, just print(len(gdf_wrtypes.index))\n"
   ]
  },
  {
   "cell_type": "markdown",
   "id": "db36bdd5",
   "metadata": {},
   "source": [
    "Task is to find rows in results sets, that have an unwanted type in the origin data (compare Table 1 from the thesis)"
   ]
  },
  {
   "cell_type": "code",
   "execution_count": 3,
   "id": "7d367f73",
   "metadata": {},
   "outputs": [],
   "source": [
    "# specify a types series\n",
    "#correct_types = ['0','1','5','6','7','8']\n",
    "wrong_types = ['2','3','4','9','10','11','12','13','14','15','16','17','18','19']"
   ]
  },
  {
   "cell_type": "code",
   "execution_count": 4,
   "id": "32a2f600",
   "metadata": {},
   "outputs": [],
   "source": [
    "# search for wrong types in results\n",
    "gdf_wrtypes = gdf_in[gdf_in['types'].isin(wrong_types)]"
   ]
  },
  {
   "cell_type": "code",
   "execution_count": 5,
   "id": "19ac566c",
   "metadata": {},
   "outputs": [
    {
     "name": "stdout",
     "output_type": "stream",
     "text": [
      "0\n"
     ]
    }
   ],
   "source": [
    "print(len(gdf_wrtypes.index))"
   ]
  },
  {
   "cell_type": "code",
   "execution_count": 6,
   "id": "3e9c164c",
   "metadata": {},
   "outputs": [],
   "source": [
    "gdf_wrtypes_tfr = gdf_in_bytfr[gdf_in_bytfr['types'].isin(wrong_types)]"
   ]
  },
  {
   "cell_type": "code",
   "execution_count": 7,
   "id": "1600542b",
   "metadata": {},
   "outputs": [
    {
     "name": "stdout",
     "output_type": "stream",
     "text": [
      "0\n"
     ]
    }
   ],
   "source": [
    "print(len(gdf_wrtypes_tfr.index))"
   ]
  },
  {
   "cell_type": "markdown",
   "id": "c3c7c40b",
   "metadata": {},
   "source": [
    "This Notebook ends here."
   ]
  }
 ],
 "metadata": {
  "kernelspec": {
   "display_name": "Python 3 (ipykernel)",
   "language": "python",
   "name": "python3"
  },
  "language_info": {
   "codemirror_mode": {
    "name": "ipython",
    "version": 3
   },
   "file_extension": ".py",
   "mimetype": "text/x-python",
   "name": "python",
   "nbconvert_exporter": "python",
   "pygments_lexer": "ipython3",
   "version": "3.10.4"
  }
 },
 "nbformat": 4,
 "nbformat_minor": 5
}
