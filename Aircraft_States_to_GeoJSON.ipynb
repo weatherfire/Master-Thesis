{
 "cells": [
  {
   "cell_type": "markdown",
   "id": "44fea02a",
   "metadata": {},
   "source": [
    "## Script to turn aircraft state vector .csv to .geojson"
   ]
  },
  {
   "cell_type": "code",
   "execution_count": null,
   "id": "ce3c910f",
   "metadata": {},
   "outputs": [],
   "source": [
    "import pandas as pd\n",
    "import geopandas as gpd\n",
    "import shapely.wkt"
   ]
  },
  {
   "cell_type": "code",
   "execution_count": null,
   "id": "7930c6b7",
   "metadata": {},
   "outputs": [],
   "source": [
    "#read a dataframe from current directory\n",
    "df = pd.read_csv('aircraft_states_north_america_20210801_20211101.csv')"
   ]
  },
  {
   "cell_type": "code",
   "execution_count": null,
   "id": "83d7559b",
   "metadata": {},
   "outputs": [],
   "source": [
    "#turn dataframe into geodataframe reading coordinates from df\n",
    "geometry = df['coordinates'].map(shapely.wkt.loads)\n",
    "df = df.drop('coordinates', axis=1)\n",
    "gdf = gpd.GeoDataFrame(df, crs=\"EPSG:4326\", geometry=geometry)"
   ]
  },
  {
   "cell_type": "code",
   "execution_count": null,
   "id": "eff3482f",
   "metadata": {},
   "outputs": [],
   "source": [
    "#write into .geojson into current directory\n",
    "gdf.to_file('aircraft_states_north_america_20210801_20211101.geojson', driver='GeoJSON')"
   ]
  }
 ],
 "metadata": {
  "kernelspec": {
   "display_name": "Python 3 (ipykernel)",
   "language": "python",
   "name": "python3"
  },
  "language_info": {
   "codemirror_mode": {
    "name": "ipython",
    "version": 3
   },
   "file_extension": ".py",
   "mimetype": "text/x-python",
   "name": "python",
   "nbconvert_exporter": "python",
   "pygments_lexer": "ipython3",
   "version": "3.10.4"
  }
 },
 "nbformat": 4,
 "nbformat_minor": 5
}
