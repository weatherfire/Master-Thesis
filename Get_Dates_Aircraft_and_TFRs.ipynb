{
 "cells": [
  {
   "cell_type": "markdown",
   "id": "9d43640e",
   "metadata": {},
   "source": [
    "# A script to compare trajectory datetime with TFR times\n",
    "from an already joined dataset"
   ]
  },
  {
   "cell_type": "code",
   "execution_count": 1,
   "id": "89386938",
   "metadata": {},
   "outputs": [],
   "source": [
    "import geopandas as gpd\n",
    "import pandas as pd\n",
    "import datetime as dt"
   ]
  },
  {
   "cell_type": "code",
   "execution_count": 2,
   "id": "08a3b402",
   "metadata": {},
   "outputs": [],
   "source": [
    "#create geodataframe with file from script´s directory\n",
    "gdf = gpd.read_file('TFRs_on_Trajectories.geojson')\n",
    "\n",
    "\n",
    "#out files as GeoJSON within scrip directory\n",
    "file_traj_noTFR = 'traj_not_in_TFR.geojson'\n",
    "file_trai_not_in_TFR_time = 'traj_not_in_TFR_time.geojson'\n"
   ]
  },
  {
   "cell_type": "code",
   "execution_count": 3,
   "id": "33c2726c",
   "metadata": {},
   "outputs": [
    {
     "data": {
      "text/html": [
       "<div>\n",
       "<style scoped>\n",
       "    .dataframe tbody tr th:only-of-type {\n",
       "        vertical-align: middle;\n",
       "    }\n",
       "\n",
       "    .dataframe tbody tr th {\n",
       "        vertical-align: top;\n",
       "    }\n",
       "\n",
       "    .dataframe thead th {\n",
       "        text-align: right;\n",
       "    }\n",
       "</style>\n",
       "<table border=\"1\" class=\"dataframe\">\n",
       "  <thead>\n",
       "    <tr style=\"text-align: right;\">\n",
       "      <th></th>\n",
       "      <th>OBJECTID</th>\n",
       "      <th>Join_Count</th>\n",
       "      <th>TARGET_FID</th>\n",
       "      <th>JOIN_FID</th>\n",
       "      <th>traj_id</th>\n",
       "      <th>start_t</th>\n",
       "      <th>end_t</th>\n",
       "      <th>length</th>\n",
       "      <th>direction</th>\n",
       "      <th>Source</th>\n",
       "      <th>...</th>\n",
       "      <th>NOTAM__</th>\n",
       "      <th>Issue_Date__UTC_</th>\n",
       "      <th>Effective_Date__UTC_</th>\n",
       "      <th>Cancel_Date__UTC_</th>\n",
       "      <th>Expiration_Date__UTC_</th>\n",
       "      <th>NOTAM_Condition_or_LTA_Subject</th>\n",
       "      <th>Radius</th>\n",
       "      <th>Radius_m</th>\n",
       "      <th>Shape_Length</th>\n",
       "      <th>geometry</th>\n",
       "    </tr>\n",
       "  </thead>\n",
       "  <tbody>\n",
       "    <tr>\n",
       "      <th>0</th>\n",
       "      <td>1</td>\n",
       "      <td>1</td>\n",
       "      <td>1</td>\n",
       "      <td>251</td>\n",
       "      <td>a02862_0</td>\n",
       "      <td>2021-08-01T01:19:23</td>\n",
       "      <td>2021-08-01T01:27:32</td>\n",
       "      <td>8685.843986</td>\n",
       "      <td>39.598238</td>\n",
       "      <td>ZOA_2021-08-01</td>\n",
       "      <td>...</td>\n",
       "      <td>1/8869</td>\n",
       "      <td>07/31/2021 0000</td>\n",
       "      <td>07/31/2021 0015</td>\n",
       "      <td>08/03/2021 1350</td>\n",
       "      <td>10/01/2021 0015</td>\n",
       "      <td>!FDC 1/8869 ZOA CA..AIRSPACE 24NM E OF CHICO, ...</td>\n",
       "      <td>0.0</td>\n",
       "      <td>0.0</td>\n",
       "      <td>0.091049</td>\n",
       "      <td>LINESTRING (-121.10220 39.91300, -121.10920 39...</td>\n",
       "    </tr>\n",
       "    <tr>\n",
       "      <th>1</th>\n",
       "      <td>2</td>\n",
       "      <td>1</td>\n",
       "      <td>1</td>\n",
       "      <td>255</td>\n",
       "      <td>a02862_0</td>\n",
       "      <td>2021-08-01T01:19:23</td>\n",
       "      <td>2021-08-01T01:27:32</td>\n",
       "      <td>8685.843986</td>\n",
       "      <td>39.598238</td>\n",
       "      <td>ZOA_2021-08-03</td>\n",
       "      <td>...</td>\n",
       "      <td>1/0014</td>\n",
       "      <td>08/03/2021 0201</td>\n",
       "      <td>08/03/2021 1400</td>\n",
       "      <td>08/04/2021 0359</td>\n",
       "      <td>09/03/2021 0400</td>\n",
       "      <td>!FDC 1/0014 ZOA CA..AIRSPACE 24NM E OF CHICO, ...</td>\n",
       "      <td>0.0</td>\n",
       "      <td>0.0</td>\n",
       "      <td>0.091049</td>\n",
       "      <td>LINESTRING (-121.10220 39.91300, -121.10920 39...</td>\n",
       "    </tr>\n",
       "  </tbody>\n",
       "</table>\n",
       "<p>2 rows × 21 columns</p>\n",
       "</div>"
      ],
      "text/plain": [
       "   OBJECTID  Join_Count  TARGET_FID  JOIN_FID   traj_id              start_t  \\\n",
       "0         1           1           1       251  a02862_0  2021-08-01T01:19:23   \n",
       "1         2           1           1       255  a02862_0  2021-08-01T01:19:23   \n",
       "\n",
       "                 end_t       length  direction          Source  ... NOTAM__  \\\n",
       "0  2021-08-01T01:27:32  8685.843986  39.598238  ZOA_2021-08-01  ...  1/8869   \n",
       "1  2021-08-01T01:27:32  8685.843986  39.598238  ZOA_2021-08-03  ...  1/0014   \n",
       "\n",
       "  Issue_Date__UTC_ Effective_Date__UTC_ Cancel_Date__UTC_  \\\n",
       "0  07/31/2021 0000      07/31/2021 0015   08/03/2021 1350   \n",
       "1  08/03/2021 0201      08/03/2021 1400   08/04/2021 0359   \n",
       "\n",
       "  Expiration_Date__UTC_                     NOTAM_Condition_or_LTA_Subject  \\\n",
       "0       10/01/2021 0015  !FDC 1/8869 ZOA CA..AIRSPACE 24NM E OF CHICO, ...   \n",
       "1       09/03/2021 0400  !FDC 1/0014 ZOA CA..AIRSPACE 24NM E OF CHICO, ...   \n",
       "\n",
       "  Radius  Radius_m  Shape_Length  \\\n",
       "0    0.0       0.0      0.091049   \n",
       "1    0.0       0.0      0.091049   \n",
       "\n",
       "                                            geometry  \n",
       "0  LINESTRING (-121.10220 39.91300, -121.10920 39...  \n",
       "1  LINESTRING (-121.10220 39.91300, -121.10920 39...  \n",
       "\n",
       "[2 rows x 21 columns]"
      ]
     },
     "execution_count": 3,
     "metadata": {},
     "output_type": "execute_result"
    }
   ],
   "source": [
    "gdf.head(2)"
   ]
  },
  {
   "cell_type": "markdown",
   "id": "d8a18974",
   "metadata": {},
   "source": [
    "Those aircraft movements having no TFR cover are sorted out"
   ]
  },
  {
   "cell_type": "code",
   "execution_count": 4,
   "id": "4e06ac18",
   "metadata": {},
   "outputs": [],
   "source": [
    "# this cannot have duplicates\n",
    "gdf_noTFR = gdf[gdf[\"Join_Count\"]==0]\n",
    "\n",
    "# this can have duplicates in case of multiple TFRs being touched \n",
    "# simultaneously or multiple TFRs being issued in the same place\n",
    "gdf_hasTFR = gdf[gdf[\"Join_Count\"]!=0] "
   ]
  },
  {
   "cell_type": "code",
   "execution_count": 5,
   "id": "b704fc61",
   "metadata": {},
   "outputs": [
    {
     "data": {
      "text/html": [
       "<div>\n",
       "<style scoped>\n",
       "    .dataframe tbody tr th:only-of-type {\n",
       "        vertical-align: middle;\n",
       "    }\n",
       "\n",
       "    .dataframe tbody tr th {\n",
       "        vertical-align: top;\n",
       "    }\n",
       "\n",
       "    .dataframe thead th {\n",
       "        text-align: right;\n",
       "    }\n",
       "</style>\n",
       "<table border=\"1\" class=\"dataframe\">\n",
       "  <thead>\n",
       "    <tr style=\"text-align: right;\">\n",
       "      <th></th>\n",
       "      <th>OBJECTID</th>\n",
       "      <th>Join_Count</th>\n",
       "      <th>TARGET_FID</th>\n",
       "      <th>JOIN_FID</th>\n",
       "      <th>traj_id</th>\n",
       "      <th>start_t</th>\n",
       "      <th>end_t</th>\n",
       "      <th>length</th>\n",
       "      <th>direction</th>\n",
       "      <th>Source</th>\n",
       "      <th>...</th>\n",
       "      <th>NOTAM__</th>\n",
       "      <th>Issue_Date__UTC_</th>\n",
       "      <th>Effective_Date__UTC_</th>\n",
       "      <th>Cancel_Date__UTC_</th>\n",
       "      <th>Expiration_Date__UTC_</th>\n",
       "      <th>NOTAM_Condition_or_LTA_Subject</th>\n",
       "      <th>Radius</th>\n",
       "      <th>Radius_m</th>\n",
       "      <th>Shape_Length</th>\n",
       "      <th>geometry</th>\n",
       "    </tr>\n",
       "  </thead>\n",
       "  <tbody>\n",
       "    <tr>\n",
       "      <th>889</th>\n",
       "      <td>890</td>\n",
       "      <td>0</td>\n",
       "      <td>71</td>\n",
       "      <td>-1</td>\n",
       "      <td>a0956b_10</td>\n",
       "      <td>2021-09-02T22:58:49</td>\n",
       "      <td>2021-09-02T23:02:42</td>\n",
       "      <td>14191.218388</td>\n",
       "      <td>43.931943</td>\n",
       "      <td>None</td>\n",
       "      <td>...</td>\n",
       "      <td>None</td>\n",
       "      <td>None</td>\n",
       "      <td>None</td>\n",
       "      <td>None</td>\n",
       "      <td>None</td>\n",
       "      <td>None</td>\n",
       "      <td>NaN</td>\n",
       "      <td>NaN</td>\n",
       "      <td>0.147856</td>\n",
       "      <td>LINESTRING (-116.78530 48.28520, -116.76590 48...</td>\n",
       "    </tr>\n",
       "    <tr>\n",
       "      <th>934</th>\n",
       "      <td>935</td>\n",
       "      <td>0</td>\n",
       "      <td>74</td>\n",
       "      <td>-1</td>\n",
       "      <td>a0956b_13</td>\n",
       "      <td>2021-09-22T22:06:19</td>\n",
       "      <td>2021-09-22T22:14:54</td>\n",
       "      <td>45260.857727</td>\n",
       "      <td>282.981352</td>\n",
       "      <td>None</td>\n",
       "      <td>...</td>\n",
       "      <td>None</td>\n",
       "      <td>None</td>\n",
       "      <td>None</td>\n",
       "      <td>None</td>\n",
       "      <td>None</td>\n",
       "      <td>None</td>\n",
       "      <td>NaN</td>\n",
       "      <td>NaN</td>\n",
       "      <td>0.471762</td>\n",
       "      <td>LINESTRING (-122.32240 38.31120, -122.33190 38...</td>\n",
       "    </tr>\n",
       "  </tbody>\n",
       "</table>\n",
       "<p>2 rows × 21 columns</p>\n",
       "</div>"
      ],
      "text/plain": [
       "     OBJECTID  Join_Count  TARGET_FID  JOIN_FID    traj_id  \\\n",
       "889       890           0          71        -1  a0956b_10   \n",
       "934       935           0          74        -1  a0956b_13   \n",
       "\n",
       "                 start_t                end_t        length   direction  \\\n",
       "889  2021-09-02T22:58:49  2021-09-02T23:02:42  14191.218388   43.931943   \n",
       "934  2021-09-22T22:06:19  2021-09-22T22:14:54  45260.857727  282.981352   \n",
       "\n",
       "    Source  ... NOTAM__ Issue_Date__UTC_ Effective_Date__UTC_  \\\n",
       "889   None  ...    None             None                 None   \n",
       "934   None  ...    None             None                 None   \n",
       "\n",
       "    Cancel_Date__UTC_ Expiration_Date__UTC_ NOTAM_Condition_or_LTA_Subject  \\\n",
       "889              None                  None                           None   \n",
       "934              None                  None                           None   \n",
       "\n",
       "    Radius  Radius_m  Shape_Length  \\\n",
       "889    NaN       NaN      0.147856   \n",
       "934    NaN       NaN      0.471762   \n",
       "\n",
       "                                              geometry  \n",
       "889  LINESTRING (-116.78530 48.28520, -116.76590 48...  \n",
       "934  LINESTRING (-122.32240 38.31120, -122.33190 38...  \n",
       "\n",
       "[2 rows x 21 columns]"
      ]
     },
     "execution_count": 5,
     "metadata": {},
     "output_type": "execute_result"
    }
   ],
   "source": [
    "gdf_noTFR.head(2)"
   ]
  },
  {
   "cell_type": "markdown",
   "id": "61f18be0",
   "metadata": {},
   "source": [
    "This many aircraft movements are not covered by TFRs:"
   ]
  },
  {
   "cell_type": "code",
   "execution_count": 6,
   "id": "ad2d2050",
   "metadata": {
    "scrolled": true
   },
   "outputs": [
    {
     "name": "stdout",
     "output_type": "stream",
     "text": [
      "86\n"
     ]
    }
   ],
   "source": [
    "# row count of gdf_noTFR\n",
    "print(len(gdf_noTFR.index))"
   ]
  },
  {
   "cell_type": "code",
   "execution_count": 7,
   "id": "5ba2a905",
   "metadata": {},
   "outputs": [
    {
     "data": {
      "text/plain": [
       "555"
      ]
     },
     "execution_count": 7,
     "metadata": {},
     "output_type": "execute_result"
    }
   ],
   "source": [
    "# just a check: Count non-duplicates (should be 555 here to end up at 555+86 = 641 aircraft movements)\n",
    "(~gdf_hasTFR.duplicated([\"traj_id\"])).sum()"
   ]
  },
  {
   "cell_type": "markdown",
   "id": "b7f01af9",
   "metadata": {},
   "source": [
    "A trajectories start_t must be within a TFR´s effective time to be covered for sure. That needs calculation per row"
   ]
  },
  {
   "cell_type": "code",
   "execution_count": 8,
   "id": "67a8e955",
   "metadata": {},
   "outputs": [],
   "source": [
    "gdf_gap = gdf_hasTFR"
   ]
  },
  {
   "cell_type": "code",
   "execution_count": 9,
   "id": "de5b73bb",
   "metadata": {},
   "outputs": [
    {
     "name": "stderr",
     "output_type": "stream",
     "text": [
      "D:\\anaconda3\\envs\\master_env\\lib\\site-packages\\geopandas\\geodataframe.py:1351: SettingWithCopyWarning: \n",
      "A value is trying to be set on a copy of a slice from a DataFrame.\n",
      "Try using .loc[row_indexer,col_indexer] = value instead\n",
      "\n",
      "See the caveats in the documentation: https://pandas.pydata.org/pandas-docs/stable/user_guide/indexing.html#returning-a-view-versus-a-copy\n",
      "  super().__setitem__(key, value)\n"
     ]
    }
   ],
   "source": [
    "#get matching TFR\n",
    "#time formats are all naive but all are known for being UTC\n",
    "def get_tfrgap(row):\n",
    "    \n",
    "    tfrgap = 'not calculated'\n",
    "    \n",
    "    enddate = row[\"Cancel_Date__UTC_\"]\n",
    "    if enddate == None:\n",
    "        enddate = row[\"Expiration_Date__UTC_\"]\n",
    "        #if both enddate columns become read, a SettingWithCopyWarning occurs, which is ok\n",
    "    startdate = row[\"Effective_Date__UTC_\"]\n",
    "    \n",
    "    traj_startdate= row[\"start_t\"]\n",
    "    traj_enddate= row[\"end_t\"]  \n",
    "    \n",
    "    #convert to datetime to calculate\n",
    "    enddate_dt = pd.to_datetime(enddate)\n",
    "    startdate_dt = pd.to_datetime(startdate)\n",
    "    traj_startdate_dt = pd.to_datetime(traj_startdate)\n",
    "    traj_enddate_dt = pd.to_datetime(traj_enddate)\n",
    "    \n",
    "    # if trajectory time was within TFR time... \n",
    "    if startdate_dt <= traj_startdate_dt and enddate_dt >= traj_enddate_dt:  \n",
    "        \n",
    "        #calculate a time gap in minutes\n",
    "        #this way, a negative value describes TFR being OK, the only case considered here:  \n",
    "        calcdate= startdate_dt - traj_startdate_dt\n",
    "        minutes = calcdate.total_seconds()/60\n",
    "        minutes = int(minutes)\n",
    "        # need sortable type compared to str 'not calculated':\n",
    "        minutes = str(minutes)\n",
    "        tfrgap = minutes\n",
    "    \n",
    "    return tfrgap\n",
    "\n",
    "gdf_gap[\"TFRgap\"]=gdf_hasTFR.apply(get_tfrgap,axis=1)"
   ]
  },
  {
   "cell_type": "code",
   "execution_count": 10,
   "id": "2df551a5",
   "metadata": {},
   "outputs": [
    {
     "data": {
      "text/html": [
       "<div>\n",
       "<style scoped>\n",
       "    .dataframe tbody tr th:only-of-type {\n",
       "        vertical-align: middle;\n",
       "    }\n",
       "\n",
       "    .dataframe tbody tr th {\n",
       "        vertical-align: top;\n",
       "    }\n",
       "\n",
       "    .dataframe thead th {\n",
       "        text-align: right;\n",
       "    }\n",
       "</style>\n",
       "<table border=\"1\" class=\"dataframe\">\n",
       "  <thead>\n",
       "    <tr style=\"text-align: right;\">\n",
       "      <th></th>\n",
       "      <th>OBJECTID</th>\n",
       "      <th>Join_Count</th>\n",
       "      <th>TARGET_FID</th>\n",
       "      <th>JOIN_FID</th>\n",
       "      <th>traj_id</th>\n",
       "      <th>start_t</th>\n",
       "      <th>end_t</th>\n",
       "      <th>length</th>\n",
       "      <th>direction</th>\n",
       "      <th>Source</th>\n",
       "      <th>...</th>\n",
       "      <th>Issue_Date__UTC_</th>\n",
       "      <th>Effective_Date__UTC_</th>\n",
       "      <th>Cancel_Date__UTC_</th>\n",
       "      <th>Expiration_Date__UTC_</th>\n",
       "      <th>NOTAM_Condition_or_LTA_Subject</th>\n",
       "      <th>Radius</th>\n",
       "      <th>Radius_m</th>\n",
       "      <th>Shape_Length</th>\n",
       "      <th>geometry</th>\n",
       "      <th>TFRgap</th>\n",
       "    </tr>\n",
       "  </thead>\n",
       "  <tbody>\n",
       "    <tr>\n",
       "      <th>0</th>\n",
       "      <td>1</td>\n",
       "      <td>1</td>\n",
       "      <td>1</td>\n",
       "      <td>251</td>\n",
       "      <td>a02862_0</td>\n",
       "      <td>2021-08-01T01:19:23</td>\n",
       "      <td>2021-08-01T01:27:32</td>\n",
       "      <td>8685.843986</td>\n",
       "      <td>39.598238</td>\n",
       "      <td>ZOA_2021-08-01</td>\n",
       "      <td>...</td>\n",
       "      <td>07/31/2021 0000</td>\n",
       "      <td>07/31/2021 0015</td>\n",
       "      <td>08/03/2021 1350</td>\n",
       "      <td>10/01/2021 0015</td>\n",
       "      <td>!FDC 1/8869 ZOA CA..AIRSPACE 24NM E OF CHICO, ...</td>\n",
       "      <td>0.0</td>\n",
       "      <td>0.0</td>\n",
       "      <td>0.091049</td>\n",
       "      <td>LINESTRING (-121.10220 39.91300, -121.10920 39...</td>\n",
       "      <td>-1504</td>\n",
       "    </tr>\n",
       "    <tr>\n",
       "      <th>1</th>\n",
       "      <td>2</td>\n",
       "      <td>1</td>\n",
       "      <td>1</td>\n",
       "      <td>255</td>\n",
       "      <td>a02862_0</td>\n",
       "      <td>2021-08-01T01:19:23</td>\n",
       "      <td>2021-08-01T01:27:32</td>\n",
       "      <td>8685.843986</td>\n",
       "      <td>39.598238</td>\n",
       "      <td>ZOA_2021-08-03</td>\n",
       "      <td>...</td>\n",
       "      <td>08/03/2021 0201</td>\n",
       "      <td>08/03/2021 1400</td>\n",
       "      <td>08/04/2021 0359</td>\n",
       "      <td>09/03/2021 0400</td>\n",
       "      <td>!FDC 1/0014 ZOA CA..AIRSPACE 24NM E OF CHICO, ...</td>\n",
       "      <td>0.0</td>\n",
       "      <td>0.0</td>\n",
       "      <td>0.091049</td>\n",
       "      <td>LINESTRING (-121.10220 39.91300, -121.10920 39...</td>\n",
       "      <td>not calculated</td>\n",
       "    </tr>\n",
       "  </tbody>\n",
       "</table>\n",
       "<p>2 rows × 22 columns</p>\n",
       "</div>"
      ],
      "text/plain": [
       "   OBJECTID  Join_Count  TARGET_FID  JOIN_FID   traj_id              start_t  \\\n",
       "0         1           1           1       251  a02862_0  2021-08-01T01:19:23   \n",
       "1         2           1           1       255  a02862_0  2021-08-01T01:19:23   \n",
       "\n",
       "                 end_t       length  direction          Source  ...  \\\n",
       "0  2021-08-01T01:27:32  8685.843986  39.598238  ZOA_2021-08-01  ...   \n",
       "1  2021-08-01T01:27:32  8685.843986  39.598238  ZOA_2021-08-03  ...   \n",
       "\n",
       "  Issue_Date__UTC_ Effective_Date__UTC_ Cancel_Date__UTC_  \\\n",
       "0  07/31/2021 0000      07/31/2021 0015   08/03/2021 1350   \n",
       "1  08/03/2021 0201      08/03/2021 1400   08/04/2021 0359   \n",
       "\n",
       "  Expiration_Date__UTC_                     NOTAM_Condition_or_LTA_Subject  \\\n",
       "0       10/01/2021 0015  !FDC 1/8869 ZOA CA..AIRSPACE 24NM E OF CHICO, ...   \n",
       "1       09/03/2021 0400  !FDC 1/0014 ZOA CA..AIRSPACE 24NM E OF CHICO, ...   \n",
       "\n",
       "  Radius Radius_m  Shape_Length  \\\n",
       "0    0.0      0.0      0.091049   \n",
       "1    0.0      0.0      0.091049   \n",
       "\n",
       "                                            geometry          TFRgap  \n",
       "0  LINESTRING (-121.10220 39.91300, -121.10920 39...           -1504  \n",
       "1  LINESTRING (-121.10220 39.91300, -121.10920 39...  not calculated  \n",
       "\n",
       "[2 rows x 22 columns]"
      ]
     },
     "execution_count": 10,
     "metadata": {},
     "output_type": "execute_result"
    }
   ],
   "source": [
    "gdf_gap.head(2)"
   ]
  },
  {
   "cell_type": "markdown",
   "id": "208d6449",
   "metadata": {},
   "source": [
    "With the time gap available where possible now, those trajectories (trai_id) need to get removed, where another occurrence of it has a value. Not till then the duplicates can get removed to count trajectories and thus aircraft movements that were not under TFR coverage."
   ]
  },
  {
   "cell_type": "code",
   "execution_count": 11,
   "id": "b945c8aa",
   "metadata": {},
   "outputs": [],
   "source": [
    "# change the global options that Geopandas inherits from if more rows/columns shall be displayed\n",
    "#pd.set_option('display.max_rows',None)"
   ]
  },
  {
   "cell_type": "code",
   "execution_count": 12,
   "id": "dd35139d",
   "metadata": {},
   "outputs": [
    {
     "name": "stdout",
     "output_type": "stream",
     "text": [
      "555\n"
     ]
    }
   ],
   "source": [
    "#gdf gets sorted and \n",
    "#duplicates must be dropped immediately before splitting the sorted gdf\n",
    "gdf_gap_sorted = gdf_gap.sort_values([\"TFRgap\"], ascending = True).drop_duplicates([\"traj_id\"])\n",
    "\n",
    "#should be 555 here to end up at 555+86 = 641 aircraft movements, \n",
    "#unique again but tagged with a minute value for TFRs being OK \n",
    "print(len(gdf_gap_sorted.index))"
   ]
  },
  {
   "cell_type": "code",
   "execution_count": 13,
   "id": "caddd7b1",
   "metadata": {},
   "outputs": [],
   "source": [
    "#splitting the sorted gdf\n",
    "gdf_gap_sorted_hascalc = gdf_gap_sorted[gdf_gap_sorted[\"TFRgap\"]!='not calculated'] \n",
    "gdf_gap_sorted_nocalc = gdf_gap_sorted[gdf_gap_sorted[\"TFRgap\"]=='not calculated'] "
   ]
  },
  {
   "cell_type": "code",
   "execution_count": 14,
   "id": "53caf2eb",
   "metadata": {},
   "outputs": [
    {
     "name": "stdout",
     "output_type": "stream",
     "text": [
      "Trajectories within TFR timeframe: Count is 439\n"
     ]
    }
   ],
   "source": [
    "# Trajectories within TFR timeframe\n",
    "print('Trajectories within TFR timeframe: Count is '+str(len(gdf_gap_sorted_hascalc.index)))"
   ]
  },
  {
   "cell_type": "code",
   "execution_count": 15,
   "id": "4c0b0b2a",
   "metadata": {},
   "outputs": [
    {
     "name": "stdout",
     "output_type": "stream",
     "text": [
      "Trajectories out of TFR timeframe: Count is 116\n"
     ]
    }
   ],
   "source": [
    "# Trajectories out of TFR timeframe\n",
    "print('Trajectories out of TFR timeframe: Count is '+str(len(gdf_gap_sorted_nocalc.index)))\n"
   ]
  },
  {
   "cell_type": "code",
   "execution_count": 16,
   "id": "63ae2cde",
   "metadata": {},
   "outputs": [
    {
     "name": "stderr",
     "output_type": "stream",
     "text": [
      "D:\\anaconda3\\envs\\master_env\\lib\\site-packages\\geopandas\\io\\file.py:362: FutureWarning: pandas.Int64Index is deprecated and will be removed from pandas in a future version. Use pandas.Index with the appropriate dtype instead.\n",
      "  pd.Int64Index,\n",
      "D:\\anaconda3\\envs\\master_env\\lib\\site-packages\\geopandas\\io\\file.py:362: FutureWarning: pandas.Int64Index is deprecated and will be removed from pandas in a future version. Use pandas.Index with the appropriate dtype instead.\n",
      "  pd.Int64Index,\n"
     ]
    }
   ],
   "source": [
    "#create geojson of questionable trajectories\n",
    " # Trajectories outside of any TFR\n",
    "gdf_noTFR.to_file(filename = file_traj_noTFR, driver='GeoJSON')\n",
    " # Trajectories out of TFR timeframe\n",
    "gdf_gap_sorted_nocalc.to_file(filename = file_trai_not_in_TFR_time, driver='GeoJSON')"
   ]
  },
  {
   "cell_type": "markdown",
   "id": "704b9e45",
   "metadata": {},
   "source": [
    "By how much TFRs for trajectories out of TFR timeframe were late cannot be said. From the gdf_gap_sorted containing duplicates it is not (always) known, which TFR was intended for that particular flight. So the script ends here."
   ]
  }
 ],
 "metadata": {
  "kernelspec": {
   "display_name": "Python 3 (ipykernel)",
   "language": "python",
   "name": "python3"
  },
  "language_info": {
   "codemirror_mode": {
    "name": "ipython",
    "version": 3
   },
   "file_extension": ".py",
   "mimetype": "text/x-python",
   "name": "python",
   "nbconvert_exporter": "python",
   "pygments_lexer": "ipython3",
   "version": "3.10.4"
  }
 },
 "nbformat": 4,
 "nbformat_minor": 5
}
