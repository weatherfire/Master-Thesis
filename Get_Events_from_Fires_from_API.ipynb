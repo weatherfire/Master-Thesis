{
 "cells": [
  {
   "cell_type": "markdown",
   "id": "5df6ca5c",
   "metadata": {},
   "source": [
    "# A Script to gain lists of TFR-exceeding fire clusters that can be revisited"
   ]
  },
  {
   "cell_type": "code",
   "execution_count": 1,
   "id": "fd6f3d43",
   "metadata": {},
   "outputs": [],
   "source": [
    "import geopandas as gpd\n",
    "import pandas as pd"
   ]
  },
  {
   "cell_type": "code",
   "execution_count": 2,
   "id": "8a34381c",
   "metadata": {},
   "outputs": [],
   "source": [
    "##specify file location and name\n",
    "#3 letter location indicator, reused within all created files\n",
    "#possible values: ZAB ZDV ZFW ZLA ZLC ZMP ZOA ZSE; not ZKC and ZHU having no wildfire TFRs, ZAB has no overlapping fires\n",
    "tfr =r\"ZDV\"\n",
    "#paths and filenames\n",
    "in_path=r\"D:\\UNIGIS\\MASTER\\Scripts\\Exceeding\\\\\"\n",
    "out_path=in_path\n",
    "\n",
    "\n",
    "#size used by prior script to buffer fires in m; 1609.344  m = 1 SM, 4828.032 m = 3 SM\n",
    "buf_size = 4828.032\n",
    "\n",
    "#output concatenates from these strings as well. Buffer size must be a string for that as well\n",
    "str_buf_size = str(int(buf_size/1609.344))\n",
    "\n",
    "#input filename\n",
    "infile = tfr+'_'+str_buf_size+'SM_runaway_fires.geojson'\n",
    "\n",
    "#read geojson files\n",
    "gdf_in = gpd.read_file(in_path + infile)\n",
    "\n",
    "#output\n",
    "result_fires = out_path+tfr+'_'+str_buf_size+'SM_result-fires.geojson'\n",
    "result_TFRs = out_path+tfr+'_'+str_buf_size+'SM_result-TFRs.geojson'\n",
    "\n",
    "#result lists filename\n",
    "result_list_fires = out_path+tfr+'_'+str_buf_size+'SM_fires_results_list.csv'\n",
    "result_list_TFRs = out_path+tfr+'_'+str_buf_size+'SM_TFRs_results_list.csv'"
   ]
  },
  {
   "cell_type": "markdown",
   "id": "db36bdd5",
   "metadata": {},
   "source": [
    "Either duplicate fire clusters or TFRs must be dropped to obtain a results list"
   ]
  },
  {
   "cell_type": "code",
   "execution_count": 3,
   "id": "e7086843",
   "metadata": {},
   "outputs": [],
   "source": [
    "# Considering  column for dropping duplicate fire clusters\n",
    "gdf_result_fires = gdf_in.drop_duplicates(subset=['id'])"
   ]
  },
  {
   "cell_type": "code",
   "execution_count": 4,
   "id": "9265ff49",
   "metadata": {},
   "outputs": [],
   "source": [
    "# Considering  column for dropping duplicate TFRs\n",
    "gdf_result_TFRs = gdf_in.drop_duplicates(subset=['NOTAM #'])"
   ]
  },
  {
   "cell_type": "code",
   "execution_count": 5,
   "id": "bc72b57b",
   "metadata": {},
   "outputs": [
    {
     "name": "stderr",
     "output_type": "stream",
     "text": [
      "D:\\anaconda3\\envs\\master_env\\lib\\site-packages\\geopandas\\io\\file.py:362: FutureWarning: pandas.Int64Index is deprecated and will be removed from pandas in a future version. Use pandas.Index with the appropriate dtype instead.\n",
      "  pd.Int64Index,\n"
     ]
    }
   ],
   "source": [
    "# GeoJSON output fires\n",
    "gdf_result_fires.to_file(filename= result_fires, driver='GeoJSON')"
   ]
  },
  {
   "cell_type": "code",
   "execution_count": 6,
   "id": "864fe78d",
   "metadata": {
    "scrolled": true
   },
   "outputs": [
    {
     "name": "stderr",
     "output_type": "stream",
     "text": [
      "D:\\anaconda3\\envs\\master_env\\lib\\site-packages\\geopandas\\io\\file.py:362: FutureWarning: pandas.Int64Index is deprecated and will be removed from pandas in a future version. Use pandas.Index with the appropriate dtype instead.\n",
      "  pd.Int64Index,\n"
     ]
    }
   ],
   "source": [
    "# GeoJSON output TFRs\n",
    "gdf_result_TFRs.to_file(filename= result_TFRs, driver='GeoJSON')"
   ]
  },
  {
   "cell_type": "markdown",
   "id": "784ec3ef",
   "metadata": {},
   "source": [
    "Result lists are written as single files per TFR set issued from one ARTCC"
   ]
  },
  {
   "cell_type": "code",
   "execution_count": 7,
   "id": "c065e643",
   "metadata": {},
   "outputs": [],
   "source": [
    "gdf_result_fires['id'].to_csv(result_list_fires, header=['Result List of Fire IDs for '+tfr], index=None, sep=' ', mode='w')"
   ]
  },
  {
   "cell_type": "code",
   "execution_count": 8,
   "id": "1a527465",
   "metadata": {},
   "outputs": [],
   "source": [
    "gdf_result_TFRs['NOTAM #'].to_csv(result_list_TFRs, header=['Result List of TFRs for '+tfr], index=None, sep=' ', mode='w')"
   ]
  },
  {
   "cell_type": "markdown",
   "id": "c3c7c40b",
   "metadata": {},
   "source": [
    "This Notebook ends here. A check wheter static/artificial fire types were included can be done by Get_Types_from_exceeding_Fires.ipynb"
   ]
  }
 ],
 "metadata": {
  "kernelspec": {
   "display_name": "Python 3 (ipykernel)",
   "language": "python",
   "name": "python3"
  },
  "language_info": {
   "codemirror_mode": {
    "name": "ipython",
    "version": 3
   },
   "file_extension": ".py",
   "mimetype": "text/x-python",
   "name": "python",
   "nbconvert_exporter": "python",
   "pygments_lexer": "ipython3",
   "version": "3.10.4"
  }
 },
 "nbformat": 4,
 "nbformat_minor": 5
}
